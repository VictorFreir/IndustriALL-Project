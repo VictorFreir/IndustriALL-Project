{
  "nbformat": 4,
  "nbformat_minor": 0,
  "metadata": {
    "colab": {
      "name": "IndustriALL.ipynb",
      "provenance": [],
      "authorship_tag": "ABX9TyNUmLiPZOCyiM0xdvzyHlCN",
      "include_colab_link": true
    },
    "kernelspec": {
      "name": "python3",
      "display_name": "Python 3"
    },
    "language_info": {
      "name": "python"
    }
  },
  "cells": [
    {
      "cell_type": "markdown",
      "metadata": {
        "id": "view-in-github",
        "colab_type": "text"
      },
      "source": [
        "<a href=\"https://colab.research.google.com/github/VictorFreir/IndustriALL-Project/blob/main/IndustriALL.ipynb\" target=\"_parent\"><img src=\"https://colab.research.google.com/assets/colab-badge.svg\" alt=\"Open In Colab\"/></a>"
      ]
    },
    {
      "cell_type": "markdown",
      "metadata": {
        "id": "IIFMo2KtLVnC"
      },
      "source": [
        "<h1>Hey there!</h1>\n",
        "<h3>Sinta-se em seu próprio repositório, sirva seu café e vamos ao código.</h3>\n",
        "<p>Nesse repositório, nós iremos resolver o case passado no processo seletivo da empresa IndustriALL. Nesse case, o grande desafio é a descoberta do resultado de alguns candidatos no antigo processo seletivo da empresa. Para mais detalhamento do case, acesse o arquivo: descrição_base.txt</p>\n"
      ]
    },
    {
      "cell_type": "markdown",
      "metadata": {
        "id": "yPMim8JeP5K3"
      },
      "source": [
        "# Introdução\n"
      ]
    },
    {
      "cell_type": "markdown",
      "metadata": {
        "id": "hmkMUyHxWCHC"
      },
      "source": [
        "<p>Ao decorrer do projeto, nós iremos interagindo e eu te explicarei minha linha de raciocínio para a resolução dos problemas. Antes de começar o projeto em si, vamos esclarecer alguns pontos que precisaremos percorrer:</p>\n",
        "\n",
        "<ul>\n",
        "<li>Realizar a limpeza dos dados.</li>\n",
        "<li>Descobrir e entender o(s) critério(s) de avaliação.</li>\n",
        "<li>Identificar as variáveis que influenciam na aprovação.</li>\n",
        "<li>Realizar o pré-processamento dos dados.</li>\n",
        "<li>Aplicar um modelo de Machine Learning.</li>\n",
        "<li>Prever os aprovados e reprovados no processo seletivo.</li>\n",
        "</ul>\n",
        "\n",
        "<p>Para começar, vamos importar as bibliotecas e base de dados necessárias:</p>"
      ]
    },
    {
      "cell_type": "code",
      "metadata": {
        "id": "0JlZepM1LMSJ"
      },
      "source": [
        "import pandas as pd\n",
        "import numpy as np\n",
        "import matplotlib.pyplot as plt\n",
        "import seaborn as sns\n",
        "import plotly.express as px\n",
        "from sklearn.utils import shuffle\n",
        "from sklearn.preprocessing import LabelEncoder\n",
        "from sklearn.preprocessing import StandardScaler\n",
        "from sklearn.naive_bayes import GaussianNB\n",
        "from sklearn.model_selection import train_test_split  \n",
        "from sklearn.metrics import accuracy_score"
      ],
      "execution_count": null,
      "outputs": []
    },
    {
      "cell_type": "code",
      "metadata": {
        "colab": {
          "base_uri": "https://localhost:8080/",
          "height": 474
        },
        "id": "ilgB5vkUM5X_",
        "outputId": "4e1ef84f-524a-439d-8407-69dd7e4db034"
      },
      "source": [
        "df_candidatos = pd.read_csv(\"database_candidatos.csv\",encoding=\"utf-8\", header = 1)\n",
        "df_notas_candidatos = pd.read_csv(\"notas_candidatos.csv\",encoding=\"utf-8\",)\n",
        "\n",
        "print(\"Frame database_candidatos.csv\")\n",
        "display(df_candidatos.head(3))\n",
        "\n",
        "print('\\n\\n')\n",
        "print(\"Frame de notas_candidatos.csv\")\n",
        "display(df_notas_candidatos.head(3))"
      ],
      "execution_count": null,
      "outputs": [
        {
          "output_type": "stream",
          "name": "stdout",
          "text": [
            "Frame database_candidatos.csv\n"
          ]
        },
        {
          "output_type": "display_data",
          "data": {
            "text/html": [
              "<div>\n",
              "<style scoped>\n",
              "    .dataframe tbody tr th:only-of-type {\n",
              "        vertical-align: middle;\n",
              "    }\n",
              "\n",
              "    .dataframe tbody tr th {\n",
              "        vertical-align: top;\n",
              "    }\n",
              "\n",
              "    .dataframe thead th {\n",
              "        text-align: right;\n",
              "    }\n",
              "</style>\n",
              "<table border=\"1\" class=\"dataframe\">\n",
              "  <thead>\n",
              "    <tr style=\"text-align: right;\">\n",
              "      <th></th>\n",
              "      <th>id_candidato</th>\n",
              "      <th>nome</th>\n",
              "      <th>idade</th>\n",
              "      <th>grande_vitoria</th>\n",
              "      <th>trab_presencial</th>\n",
              "      <th>horas_estagio</th>\n",
              "      <th>turno_estagio</th>\n",
              "      <th>ingles_leitura</th>\n",
              "      <th>ingles_escrita</th>\n",
              "      <th>ingles_conversa</th>\n",
              "      <th>ingles_vivencia_ext</th>\n",
              "      <th>titulacao</th>\n",
              "      <th>curso</th>\n",
              "      <th>primeira_graduacao</th>\n",
              "      <th>previsao_formacao</th>\n",
              "      <th>progresso_curso</th>\n",
              "      <th>estagio_DS</th>\n",
              "      <th>IC</th>\n",
              "      <th>TCC</th>\n",
              "      <th>tool_python</th>\n",
              "      <th>tool_R</th>\n",
              "      <th>tool_MATLAB</th>\n",
              "      <th>tool_sql</th>\n",
              "      <th>tool_dw</th>\n",
              "      <th>tool_BD</th>\n",
              "      <th>tool_cloud</th>\n",
              "      <th>tool_scala</th>\n",
              "      <th>tool_spark</th>\n",
              "      <th>tool_net</th>\n",
              "      <th>tool_rapidminer</th>\n",
              "      <th>tool_kubernets</th>\n",
              "      <th>tool_docker</th>\n",
              "      <th>tool_ssas</th>\n",
              "      <th>tool_tensorflow</th>\n",
              "      <th>tool_keras</th>\n",
              "      <th>tool_c++</th>\n",
              "      <th>tool_C#</th>\n",
              "      <th>tool_pytorch</th>\n",
              "      <th>tool_sklearn</th>\n",
              "      <th>tool_git</th>\n",
              "      <th>tool_pbi</th>\n",
              "      <th>tool_tableau</th>\n",
              "      <th>tool_qlick</th>\n",
              "      <th>tool_plotly</th>\n",
              "      <th>algoritmo_aprend_super</th>\n",
              "      <th>algoritmo_aprend_nao_super</th>\n",
              "      <th>algoritmo_aprend_refor</th>\n",
              "      <th>algoritmo_aprend_profun</th>\n",
              "      <th>algoritmo_modelagem_preditiva</th>\n",
              "      <th>algoritmo_modelavem_multivariada</th>\n",
              "      <th>algoritmo_visao_computacional</th>\n",
              "      <th>algoritmo_pdi</th>\n",
              "      <th>algoritmo_pds</th>\n",
              "      <th>algoritmo_busca_inteligente</th>\n",
              "      <th>algoritmo_otimizacao</th>\n",
              "      <th>algoritmo_sist_sugestao</th>\n",
              "      <th>algoritmo_robotica</th>\n",
              "    </tr>\n",
              "  </thead>\n",
              "  <tbody>\n",
              "    <tr>\n",
              "      <th>0</th>\n",
              "      <td>0</td>\n",
              "      <td>Arya Stark</td>\n",
              "      <td>26</td>\n",
              "      <td>True</td>\n",
              "      <td>True</td>\n",
              "      <td>30h</td>\n",
              "      <td>full</td>\n",
              "      <td>F</td>\n",
              "      <td>F</td>\n",
              "      <td>F</td>\n",
              "      <td>6meses</td>\n",
              "      <td>graduacao</td>\n",
              "      <td>A</td>\n",
              "      <td>True</td>\n",
              "      <td>2021/2</td>\n",
              "      <td>2/3</td>\n",
              "      <td>1</td>\n",
              "      <td>Concluido</td>\n",
              "      <td>Fazendo</td>\n",
              "      <td>Tenho_domínio</td>\n",
              "      <td>Tenho_domínio</td>\n",
              "      <td>Já_trabalhei</td>\n",
              "      <td>Já_trabalhei</td>\n",
              "      <td>Já_trabalhei</td>\n",
              "      <td>Já_trabalhei</td>\n",
              "      <td>Já_trabalhei</td>\n",
              "      <td>Já_ouvi_Falar</td>\n",
              "      <td>Já_ouvi_Falar</td>\n",
              "      <td>Já_ouvi_Falar</td>\n",
              "      <td>Já_ouvi_Falar</td>\n",
              "      <td>Já_ouvi_Falar</td>\n",
              "      <td>Já_ouvi_Falar</td>\n",
              "      <td>Já_ouvi_Falar</td>\n",
              "      <td>Tenho_domínio</td>\n",
              "      <td>Tenho_domínio</td>\n",
              "      <td>Já_ouvi_Falar</td>\n",
              "      <td>Já_ouvi_Falar</td>\n",
              "      <td>Já_ouvi_Falar</td>\n",
              "      <td>Tenho_domínio</td>\n",
              "      <td>Já_ouvi_Falar</td>\n",
              "      <td>Tenho_domínio</td>\n",
              "      <td>Já_ouvi_Falar</td>\n",
              "      <td>Já_ouvi_Falar</td>\n",
              "      <td>Tenho_domínio</td>\n",
              "      <td>Desenvolvi_grandes_projetos_com_isso</td>\n",
              "      <td>Desenvolvi_grandes_projetos_com_isso</td>\n",
              "      <td>Só_estudei_nunca_apliquei</td>\n",
              "      <td>Apliquei_em_algum_trabalho</td>\n",
              "      <td>Apliquei_em_algum_trabalho</td>\n",
              "      <td>Apliquei_em_algum_trabalho</td>\n",
              "      <td>Só_estudei_nunca_apliquei</td>\n",
              "      <td>Só_estudei_nunca_apliquei</td>\n",
              "      <td>Só_estudei_nunca_apliquei</td>\n",
              "      <td>Só_estudei_nunca_apliquei</td>\n",
              "      <td>Apliquei_em_algum_trabalho</td>\n",
              "      <td>Só_estudei_nunca_apliquei</td>\n",
              "      <td>Só_estudei_nunca_apliquei</td>\n",
              "    </tr>\n",
              "    <tr>\n",
              "      <th>1</th>\n",
              "      <td>1</td>\n",
              "      <td>Asha Greyjoy</td>\n",
              "      <td>24</td>\n",
              "      <td>True</td>\n",
              "      <td>True</td>\n",
              "      <td>30h</td>\n",
              "      <td>full</td>\n",
              "      <td>F</td>\n",
              "      <td>A</td>\n",
              "      <td>A</td>\n",
              "      <td>6meses</td>\n",
              "      <td>graduacao</td>\n",
              "      <td>A</td>\n",
              "      <td>True</td>\n",
              "      <td>&gt;2022/2</td>\n",
              "      <td>2/3</td>\n",
              "      <td>1</td>\n",
              "      <td>Não</td>\n",
              "      <td>Fazendo</td>\n",
              "      <td>Tenho_domínio</td>\n",
              "      <td>Já_ouvi_Falar</td>\n",
              "      <td>Já_trabalhei</td>\n",
              "      <td>Já_trabalhei</td>\n",
              "      <td>Já_ouvi_Falar</td>\n",
              "      <td>Já_ouvi_Falar</td>\n",
              "      <td>Tenho_domínio</td>\n",
              "      <td>Já_ouvi_Falar</td>\n",
              "      <td>Já_ouvi_Falar</td>\n",
              "      <td>Já_ouvi_Falar</td>\n",
              "      <td>Já_trabalhei</td>\n",
              "      <td>Já_ouvi_Falar</td>\n",
              "      <td>Já_trabalhei</td>\n",
              "      <td>Nunca_nem_vi</td>\n",
              "      <td>Já_ouvi_Falar</td>\n",
              "      <td>Tenho_domínio</td>\n",
              "      <td>Já_ouvi_Falar</td>\n",
              "      <td>Já_ouvi_Falar</td>\n",
              "      <td>Já_ouvi_Falar</td>\n",
              "      <td>Tenho_domínio</td>\n",
              "      <td>Tenho_domínio</td>\n",
              "      <td>Já_ouvi_Falar</td>\n",
              "      <td>Já_ouvi_Falar</td>\n",
              "      <td>Já_ouvi_Falar</td>\n",
              "      <td>Já_trabalhei</td>\n",
              "      <td>Desenvolvi_grandes_projetos_com_isso</td>\n",
              "      <td>Só_estudei_nunca_apliquei</td>\n",
              "      <td>Nunca_estudei_e_nunca_apliquei</td>\n",
              "      <td>Desenvolvi_grandes_projetos_com_isso</td>\n",
              "      <td>Desenvolvi_grandes_projetos_com_isso</td>\n",
              "      <td>Desenvolvi_grandes_projetos_com_isso</td>\n",
              "      <td>Apliquei_em_algum_trabalho</td>\n",
              "      <td>Só_estudei_nunca_apliquei</td>\n",
              "      <td>Só_estudei_nunca_apliquei</td>\n",
              "      <td>Nunca_estudei_e_nunca_apliquei</td>\n",
              "      <td>Só_estudei_nunca_apliquei</td>\n",
              "      <td>Nunca_estudei_e_nunca_apliquei</td>\n",
              "      <td>Nunca_estudei_e_nunca_apliquei</td>\n",
              "    </tr>\n",
              "    <tr>\n",
              "      <th>2</th>\n",
              "      <td>2</td>\n",
              "      <td>Balon Greyjoy</td>\n",
              "      <td>23</td>\n",
              "      <td>True</td>\n",
              "      <td>True</td>\n",
              "      <td>30h</td>\n",
              "      <td>restrito</td>\n",
              "      <td>B</td>\n",
              "      <td>B</td>\n",
              "      <td>B</td>\n",
              "      <td>0meses</td>\n",
              "      <td>graduacao</td>\n",
              "      <td>C</td>\n",
              "      <td>True</td>\n",
              "      <td>2020/2</td>\n",
              "      <td>2/3</td>\n",
              "      <td>0</td>\n",
              "      <td>Não</td>\n",
              "      <td>Não</td>\n",
              "      <td>Já_ouvi_Falar</td>\n",
              "      <td>Nunca_nem_vi</td>\n",
              "      <td>Nunca_nem_vi</td>\n",
              "      <td>Já_ouvi_Falar</td>\n",
              "      <td>Nunca_nem_vi</td>\n",
              "      <td>Já_ouvi_Falar</td>\n",
              "      <td>Já_ouvi_Falar</td>\n",
              "      <td>Nunca_nem_vi</td>\n",
              "      <td>Nunca_nem_vi</td>\n",
              "      <td>Nunca_nem_vi</td>\n",
              "      <td>Nunca_nem_vi</td>\n",
              "      <td>Nunca_nem_vi</td>\n",
              "      <td>Nunca_nem_vi</td>\n",
              "      <td>Nunca_nem_vi</td>\n",
              "      <td>Nunca_nem_vi</td>\n",
              "      <td>Nunca_nem_vi</td>\n",
              "      <td>Já_ouvi_Falar</td>\n",
              "      <td>Já_ouvi_Falar</td>\n",
              "      <td>Nunca_nem_vi</td>\n",
              "      <td>Nunca_nem_vi</td>\n",
              "      <td>Nunca_nem_vi</td>\n",
              "      <td>Já_ouvi_Falar</td>\n",
              "      <td>Já_ouvi_Falar</td>\n",
              "      <td>Nunca_nem_vi</td>\n",
              "      <td>Nunca_nem_vi</td>\n",
              "      <td>Nunca_estudei_e_nunca_apliquei</td>\n",
              "      <td>Nunca_estudei_e_nunca_apliquei</td>\n",
              "      <td>Nunca_estudei_e_nunca_apliquei</td>\n",
              "      <td>Nunca_estudei_e_nunca_apliquei</td>\n",
              "      <td>Nunca_estudei_e_nunca_apliquei</td>\n",
              "      <td>Nunca_estudei_e_nunca_apliquei</td>\n",
              "      <td>Nunca_estudei_e_nunca_apliquei</td>\n",
              "      <td>Nunca_estudei_e_nunca_apliquei</td>\n",
              "      <td>Nunca_estudei_e_nunca_apliquei</td>\n",
              "      <td>Nunca_estudei_e_nunca_apliquei</td>\n",
              "      <td>Nunca_estudei_e_nunca_apliquei</td>\n",
              "      <td>Nunca_estudei_e_nunca_apliquei</td>\n",
              "      <td>Nunca_estudei_e_nunca_apliquei</td>\n",
              "    </tr>\n",
              "  </tbody>\n",
              "</table>\n",
              "</div>"
            ],
            "text/plain": [
              "   id_candidato  ...              algoritmo_robotica\n",
              "0             0  ...       Só_estudei_nunca_apliquei\n",
              "1             1  ...  Nunca_estudei_e_nunca_apliquei\n",
              "2             2  ...  Nunca_estudei_e_nunca_apliquei\n",
              "\n",
              "[3 rows x 57 columns]"
            ]
          },
          "metadata": {}
        },
        {
          "output_type": "stream",
          "name": "stdout",
          "text": [
            "\n",
            "\n",
            "\n",
            "Frame de notas_candidatos.csv\n"
          ]
        },
        {
          "output_type": "display_data",
          "data": {
            "text/html": [
              "<div>\n",
              "<style scoped>\n",
              "    .dataframe tbody tr th:only-of-type {\n",
              "        vertical-align: middle;\n",
              "    }\n",
              "\n",
              "    .dataframe tbody tr th {\n",
              "        vertical-align: top;\n",
              "    }\n",
              "\n",
              "    .dataframe thead th {\n",
              "        text-align: right;\n",
              "    }\n",
              "</style>\n",
              "<table border=\"1\" class=\"dataframe\">\n",
              "  <thead>\n",
              "    <tr style=\"text-align: right;\">\n",
              "      <th></th>\n",
              "      <th>id_candidato</th>\n",
              "      <th>nome</th>\n",
              "      <th>nota_trabalho</th>\n",
              "      <th>nota_ingles</th>\n",
              "      <th>nota_profissional</th>\n",
              "      <th>nota_ferramentas</th>\n",
              "      <th>nota_algoritmos</th>\n",
              "      <th>nota_Final</th>\n",
              "      <th>aprovado</th>\n",
              "    </tr>\n",
              "  </thead>\n",
              "  <tbody>\n",
              "    <tr>\n",
              "      <th>0</th>\n",
              "      <td>0</td>\n",
              "      <td>Arya Stark</td>\n",
              "      <td>?</td>\n",
              "      <td>?</td>\n",
              "      <td>?</td>\n",
              "      <td>?</td>\n",
              "      <td>?</td>\n",
              "      <td>?</td>\n",
              "      <td>?</td>\n",
              "    </tr>\n",
              "    <tr>\n",
              "      <th>1</th>\n",
              "      <td>1</td>\n",
              "      <td>Asha Greyjoy</td>\n",
              "      <td>1.0</td>\n",
              "      <td>0.9</td>\n",
              "      <td>0.9</td>\n",
              "      <td>0.7113207547169812</td>\n",
              "      <td>0.5887850467289719</td>\n",
              "      <td>0.8200211602891905</td>\n",
              "      <td>True</td>\n",
              "    </tr>\n",
              "    <tr>\n",
              "      <th>2</th>\n",
              "      <td>2</td>\n",
              "      <td>Balon Greyjoy</td>\n",
              "      <td>0.875</td>\n",
              "      <td>0.45</td>\n",
              "      <td>0.725</td>\n",
              "      <td>0.5000000000000001</td>\n",
              "      <td>0.09999999999999999</td>\n",
              "      <td>0.53</td>\n",
              "      <td>False</td>\n",
              "    </tr>\n",
              "  </tbody>\n",
              "</table>\n",
              "</div>"
            ],
            "text/plain": [
              "   id_candidato           nome  ...          nota_Final aprovado\n",
              "0             0     Arya Stark  ...                   ?        ?\n",
              "1             1   Asha Greyjoy  ...  0.8200211602891905     True\n",
              "2             2  Balon Greyjoy  ...                0.53    False\n",
              "\n",
              "[3 rows x 9 columns]"
            ]
          },
          "metadata": {}
        }
      ]
    },
    {
      "cell_type": "markdown",
      "metadata": {
        "id": "jzUkOSsSN8iU"
      },
      "source": [
        "# Limpeza dos dados"
      ]
    },
    {
      "cell_type": "markdown",
      "metadata": {
        "id": "V5FDfKzMWOBj"
      },
      "source": [
        "Agora, nós vamos realizar a limpeza dos nossos dados. Para começar, note que algumas colunas estão preenchidas com um sinal de interrogação (?). Isso nos indica que é um dos candidatos que teremos que prever a aprovação. Então indetificaremos os indexes dessas linhas:"
      ]
    },
    {
      "cell_type": "code",
      "metadata": {
        "colab": {
          "base_uri": "https://localhost:8080/",
          "height": 306
        },
        "id": "NfgnU1klN7hm",
        "outputId": "d5c0e566-ed7d-44ee-a9a3-5c922aa258e2"
      },
      "source": [
        "indexes_faltantes = df_notas_candidatos[df_notas_candidatos.loc[:,'aprovado']=='?'].index\n",
        "df_notas_candidatos.iloc[indexes_faltantes]"
      ],
      "execution_count": null,
      "outputs": [
        {
          "output_type": "execute_result",
          "data": {
            "text/html": [
              "<div>\n",
              "<style scoped>\n",
              "    .dataframe tbody tr th:only-of-type {\n",
              "        vertical-align: middle;\n",
              "    }\n",
              "\n",
              "    .dataframe tbody tr th {\n",
              "        vertical-align: top;\n",
              "    }\n",
              "\n",
              "    .dataframe thead th {\n",
              "        text-align: right;\n",
              "    }\n",
              "</style>\n",
              "<table border=\"1\" class=\"dataframe\">\n",
              "  <thead>\n",
              "    <tr style=\"text-align: right;\">\n",
              "      <th></th>\n",
              "      <th>id_candidato</th>\n",
              "      <th>nome</th>\n",
              "      <th>nota_trabalho</th>\n",
              "      <th>nota_ingles</th>\n",
              "      <th>nota_profissional</th>\n",
              "      <th>nota_ferramentas</th>\n",
              "      <th>nota_algoritmos</th>\n",
              "      <th>nota_Final</th>\n",
              "      <th>aprovado</th>\n",
              "    </tr>\n",
              "  </thead>\n",
              "  <tbody>\n",
              "    <tr>\n",
              "      <th>0</th>\n",
              "      <td>0</td>\n",
              "      <td>Arya Stark</td>\n",
              "      <td>?</td>\n",
              "      <td>?</td>\n",
              "      <td>?</td>\n",
              "      <td>?</td>\n",
              "      <td>?</td>\n",
              "      <td>?</td>\n",
              "      <td>?</td>\n",
              "    </tr>\n",
              "    <tr>\n",
              "      <th>4</th>\n",
              "      <td>4</td>\n",
              "      <td>Brienne de Tarth</td>\n",
              "      <td>?</td>\n",
              "      <td>?</td>\n",
              "      <td>?</td>\n",
              "      <td>?</td>\n",
              "      <td>?</td>\n",
              "      <td>?</td>\n",
              "      <td>?</td>\n",
              "    </tr>\n",
              "    <tr>\n",
              "      <th>9</th>\n",
              "      <td>9</td>\n",
              "      <td>Daenerys Targaryen</td>\n",
              "      <td>?</td>\n",
              "      <td>?</td>\n",
              "      <td>?</td>\n",
              "      <td>?</td>\n",
              "      <td>?</td>\n",
              "      <td>?</td>\n",
              "      <td>?</td>\n",
              "    </tr>\n",
              "    <tr>\n",
              "      <th>26</th>\n",
              "      <td>26</td>\n",
              "      <td>Melisandre</td>\n",
              "      <td>?</td>\n",
              "      <td>?</td>\n",
              "      <td>?</td>\n",
              "      <td>?</td>\n",
              "      <td>?</td>\n",
              "      <td>?</td>\n",
              "      <td>?</td>\n",
              "    </tr>\n",
              "    <tr>\n",
              "      <th>46</th>\n",
              "      <td>46</td>\n",
              "      <td>Tyrion Lannister</td>\n",
              "      <td>?</td>\n",
              "      <td>?</td>\n",
              "      <td>?</td>\n",
              "      <td>?</td>\n",
              "      <td>?</td>\n",
              "      <td>?</td>\n",
              "      <td>?</td>\n",
              "    </tr>\n",
              "    <tr>\n",
              "      <th>48</th>\n",
              "      <td>48</td>\n",
              "      <td>Varys</td>\n",
              "      <td>?</td>\n",
              "      <td>?</td>\n",
              "      <td>?</td>\n",
              "      <td>?</td>\n",
              "      <td>?</td>\n",
              "      <td>?</td>\n",
              "      <td>?</td>\n",
              "    </tr>\n",
              "  </tbody>\n",
              "</table>\n",
              "</div>"
            ],
            "text/plain": [
              "    id_candidato                nome  ... nota_Final aprovado\n",
              "0              0          Arya Stark  ...          ?        ?\n",
              "4              4    Brienne de Tarth  ...          ?        ?\n",
              "9              9  Daenerys Targaryen  ...          ?        ?\n",
              "26            26          Melisandre  ...          ?        ?\n",
              "46            46    Tyrion Lannister  ...          ?        ?\n",
              "48            48               Varys  ...          ?        ?\n",
              "\n",
              "[6 rows x 9 columns]"
            ]
          },
          "metadata": {},
          "execution_count": 4
        }
      ]
    },
    {
      "cell_type": "markdown",
      "metadata": {
        "id": "Qa4-GhkYazzO"
      },
      "source": [
        "Assim, para analisar os dados e futuramente enviarmos ao modelo, nós iremos separar os dados não-faltantes em um outro DataFrame:"
      ]
    },
    {
      "cell_type": "code",
      "metadata": {
        "colab": {
          "base_uri": "https://localhost:8080/",
          "height": 165
        },
        "id": "ssVZdFjUalSm",
        "outputId": "dada1889-98a8-467e-8218-cf2839468a74"
      },
      "source": [
        "df_notas_candidatos_sem_nulos = df_notas_candidatos.loc[df_notas_candidatos['aprovado']!= '?'] # Separa as notas dos candidatos não nulos\n",
        "indexes_sem_nulos = df_notas_candidatos.loc[df_notas_candidatos['aprovado']!= '?'].index # Guarda os indexes dos candidatos não nulos\n",
        "df_candidatos_sem_nulos = df_candidatos.iloc[indexes_sem_nulos,:] # Separa os candidatos não nulos \n",
        "df_notas_candidatos_sem_nulos.head(2)\n"
      ],
      "execution_count": null,
      "outputs": [
        {
          "output_type": "execute_result",
          "data": {
            "text/html": [
              "<div>\n",
              "<style scoped>\n",
              "    .dataframe tbody tr th:only-of-type {\n",
              "        vertical-align: middle;\n",
              "    }\n",
              "\n",
              "    .dataframe tbody tr th {\n",
              "        vertical-align: top;\n",
              "    }\n",
              "\n",
              "    .dataframe thead th {\n",
              "        text-align: right;\n",
              "    }\n",
              "</style>\n",
              "<table border=\"1\" class=\"dataframe\">\n",
              "  <thead>\n",
              "    <tr style=\"text-align: right;\">\n",
              "      <th></th>\n",
              "      <th>id_candidato</th>\n",
              "      <th>nome</th>\n",
              "      <th>nota_trabalho</th>\n",
              "      <th>nota_ingles</th>\n",
              "      <th>nota_profissional</th>\n",
              "      <th>nota_ferramentas</th>\n",
              "      <th>nota_algoritmos</th>\n",
              "      <th>nota_Final</th>\n",
              "      <th>aprovado</th>\n",
              "    </tr>\n",
              "  </thead>\n",
              "  <tbody>\n",
              "    <tr>\n",
              "      <th>1</th>\n",
              "      <td>1</td>\n",
              "      <td>Asha Greyjoy</td>\n",
              "      <td>1.0</td>\n",
              "      <td>0.9</td>\n",
              "      <td>0.9</td>\n",
              "      <td>0.7113207547169812</td>\n",
              "      <td>0.5887850467289719</td>\n",
              "      <td>0.8200211602891905</td>\n",
              "      <td>True</td>\n",
              "    </tr>\n",
              "    <tr>\n",
              "      <th>2</th>\n",
              "      <td>2</td>\n",
              "      <td>Balon Greyjoy</td>\n",
              "      <td>0.875</td>\n",
              "      <td>0.45</td>\n",
              "      <td>0.725</td>\n",
              "      <td>0.5000000000000001</td>\n",
              "      <td>0.09999999999999999</td>\n",
              "      <td>0.53</td>\n",
              "      <td>False</td>\n",
              "    </tr>\n",
              "  </tbody>\n",
              "</table>\n",
              "</div>"
            ],
            "text/plain": [
              "   id_candidato           nome  ...          nota_Final aprovado\n",
              "1             1   Asha Greyjoy  ...  0.8200211602891905     True\n",
              "2             2  Balon Greyjoy  ...                0.53    False\n",
              "\n",
              "[2 rows x 9 columns]"
            ]
          },
          "metadata": {},
          "execution_count": 5
        }
      ]
    },
    {
      "cell_type": "markdown",
      "metadata": {
        "id": "qGiBdfoWcump"
      },
      "source": [
        "Agora, temos dois novos DataFrames sem os candidatos faltantes. Por experiência própria, antes de partirmos para as análises de dados, é interessante que convertamos as colunas quantitativas para \"float\", pois elas possivelmente estão em tipo \"object\":"
      ]
    },
    {
      "cell_type": "code",
      "metadata": {
        "colab": {
          "base_uri": "https://localhost:8080/"
        },
        "id": "Ulv5IR29cpKp",
        "outputId": "707d316c-7b6c-41a8-db69-760222851be3"
      },
      "source": [
        "indexes = [2,3,4,5,6,7]\n",
        "for i in indexes:\n",
        "  df_notas_candidatos_sem_nulos.iloc[:,i] = df_notas_candidatos_sem_nulos.iloc[:,i].astype('float32')"
      ],
      "execution_count": null,
      "outputs": [
        {
          "output_type": "stream",
          "name": "stderr",
          "text": [
            "/usr/local/lib/python3.7/dist-packages/pandas/core/indexing.py:1743: SettingWithCopyWarning:\n",
            "\n",
            "\n",
            "A value is trying to be set on a copy of a slice from a DataFrame.\n",
            "Try using .loc[row_indexer,col_indexer] = value instead\n",
            "\n",
            "See the caveats in the documentation: https://pandas.pydata.org/pandas-docs/stable/user_guide/indexing.html#returning-a-view-versus-a-copy\n",
            "\n"
          ]
        }
      ]
    },
    {
      "cell_type": "markdown",
      "metadata": {
        "id": "iKfsPTNgJ_I1"
      },
      "source": [
        "<p>Agora, que tal darmos uma olhada se existem valores faltantes do tipo NaN?</p>"
      ]
    },
    {
      "cell_type": "code",
      "metadata": {
        "id": "6i7Jvyw5jqdD",
        "colab": {
          "base_uri": "https://localhost:8080/",
          "height": 1000
        },
        "outputId": "6d18e7f9-4c38-4f55-cec0-95cd6ae2d23d"
      },
      "source": [
        "display(df_notas_candidatos_sem_nulos.isnull().sum())\n",
        "display(df_candidatos_sem_nulos.isnull().sum())"
      ],
      "execution_count": null,
      "outputs": [
        {
          "output_type": "display_data",
          "data": {
            "text/plain": [
              "id_candidato         0\n",
              "nome                 0\n",
              "nota_trabalho        0\n",
              "nota_ingles          0\n",
              "nota_profissional    0\n",
              "nota_ferramentas     0\n",
              "nota_algoritmos      0\n",
              "nota_Final           0\n",
              "aprovado             0\n",
              "dtype: int64"
            ]
          },
          "metadata": {}
        },
        {
          "output_type": "display_data",
          "data": {
            "text/plain": [
              "id_candidato                        0\n",
              "nome                                0\n",
              "idade                               0\n",
              "grande_vitoria                      0\n",
              "trab_presencial                     0\n",
              "horas_estagio                       0\n",
              "turno_estagio                       0\n",
              "ingles_leitura                      0\n",
              "ingles_escrita                      0\n",
              "ingles_conversa                     0\n",
              "ingles_vivencia_ext                 0\n",
              "titulacao                           0\n",
              "curso                               0\n",
              "primeira_graduacao                  0\n",
              "previsao_formacao                   0\n",
              "progresso_curso                     0\n",
              "estagio_DS                          0\n",
              "IC                                  0\n",
              "TCC                                 0\n",
              "tool_python                         0\n",
              "tool_R                              0\n",
              "tool_MATLAB                         0\n",
              "tool_sql                            0\n",
              "tool_dw                             0\n",
              "tool_BD                             0\n",
              "tool_cloud                          0\n",
              "tool_scala                          0\n",
              "tool_spark                          0\n",
              "tool_net                            0\n",
              "tool_rapidminer                     0\n",
              "tool_kubernets                      0\n",
              "tool_docker                         0\n",
              "tool_ssas                           0\n",
              "tool_tensorflow                     0\n",
              "tool_keras                          0\n",
              "tool_c++                            0\n",
              "tool_C#                             0\n",
              "tool_pytorch                        0\n",
              "tool_sklearn                        0\n",
              "tool_git                            0\n",
              "tool_pbi                            0\n",
              "tool_tableau                        0\n",
              "tool_qlick                          0\n",
              "tool_plotly                         0\n",
              "algoritmo_aprend_super              0\n",
              "algoritmo_aprend_nao_super          0\n",
              "algoritmo_aprend_refor              0\n",
              "algoritmo_aprend_profun             0\n",
              "algoritmo_modelagem_preditiva       0\n",
              "algoritmo_modelavem_multivariada    0\n",
              "algoritmo_visao_computacional       0\n",
              "algoritmo_pdi                       0\n",
              "algoritmo_pds                       0\n",
              "algoritmo_busca_inteligente         0\n",
              "algoritmo_otimizacao                0\n",
              "algoritmo_sist_sugestao             0\n",
              "algoritmo_robotica                  0\n",
              "dtype: int64"
            ]
          },
          "metadata": {}
        }
      ]
    },
    {
      "cell_type": "markdown",
      "metadata": {
        "id": "ODLU35FcKgQt"
      },
      "source": [
        "<p>Ótimo, nesse sentido, nossas bases de dados são bem limpas e então poderemos seguir para a próxima fase, a análise desses dados.</p>"
      ]
    },
    {
      "cell_type": "markdown",
      "metadata": {
        "id": "4XMLBwgZK_WC"
      },
      "source": [
        "# Entendendo os critérios avaliativos"
      ]
    },
    {
      "cell_type": "markdown",
      "metadata": {
        "id": "udDjFT4OMbez"
      },
      "source": [
        "<p>\"Victor, como assim entender os critérios avaliativos?\". Bem, nós ainda não temos a reposta de \"por quê o candidato X passou e o Y não?\". Vamos dar uma olhada na base de dados das notas para relembrarmos nossas variáveis: </p>"
      ]
    },
    {
      "cell_type": "code",
      "metadata": {
        "colab": {
          "base_uri": "https://localhost:8080/",
          "height": 213
        },
        "id": "MKgnE5YZLCQA",
        "outputId": "eb10794e-ef85-4420-9fe3-afaacb6d3310"
      },
      "source": [
        "df_notas_candidatos_sem_nulos.head(3)"
      ],
      "execution_count": null,
      "outputs": [
        {
          "output_type": "execute_result",
          "data": {
            "text/html": [
              "<div>\n",
              "<style scoped>\n",
              "    .dataframe tbody tr th:only-of-type {\n",
              "        vertical-align: middle;\n",
              "    }\n",
              "\n",
              "    .dataframe tbody tr th {\n",
              "        vertical-align: top;\n",
              "    }\n",
              "\n",
              "    .dataframe thead th {\n",
              "        text-align: right;\n",
              "    }\n",
              "</style>\n",
              "<table border=\"1\" class=\"dataframe\">\n",
              "  <thead>\n",
              "    <tr style=\"text-align: right;\">\n",
              "      <th></th>\n",
              "      <th>id_candidato</th>\n",
              "      <th>nome</th>\n",
              "      <th>nota_trabalho</th>\n",
              "      <th>nota_ingles</th>\n",
              "      <th>nota_profissional</th>\n",
              "      <th>nota_ferramentas</th>\n",
              "      <th>nota_algoritmos</th>\n",
              "      <th>nota_Final</th>\n",
              "      <th>aprovado</th>\n",
              "    </tr>\n",
              "  </thead>\n",
              "  <tbody>\n",
              "    <tr>\n",
              "      <th>1</th>\n",
              "      <td>1</td>\n",
              "      <td>Asha Greyjoy</td>\n",
              "      <td>1.000</td>\n",
              "      <td>0.90</td>\n",
              "      <td>0.900</td>\n",
              "      <td>0.711321</td>\n",
              "      <td>0.588785</td>\n",
              "      <td>0.820021</td>\n",
              "      <td>True</td>\n",
              "    </tr>\n",
              "    <tr>\n",
              "      <th>2</th>\n",
              "      <td>2</td>\n",
              "      <td>Balon Greyjoy</td>\n",
              "      <td>0.875</td>\n",
              "      <td>0.45</td>\n",
              "      <td>0.725</td>\n",
              "      <td>0.500000</td>\n",
              "      <td>0.100000</td>\n",
              "      <td>0.530000</td>\n",
              "      <td>False</td>\n",
              "    </tr>\n",
              "    <tr>\n",
              "      <th>3</th>\n",
              "      <td>3</td>\n",
              "      <td>Bran Stark</td>\n",
              "      <td>1.000</td>\n",
              "      <td>0.90</td>\n",
              "      <td>0.900</td>\n",
              "      <td>0.889308</td>\n",
              "      <td>0.728972</td>\n",
              "      <td>0.883656</td>\n",
              "      <td>True</td>\n",
              "    </tr>\n",
              "  </tbody>\n",
              "</table>\n",
              "</div>"
            ],
            "text/plain": [
              "   id_candidato           nome  ...  nota_Final  aprovado\n",
              "1             1   Asha Greyjoy  ...    0.820021      True\n",
              "2             2  Balon Greyjoy  ...    0.530000     False\n",
              "3             3     Bran Stark  ...    0.883656      True\n",
              "\n",
              "[3 rows x 9 columns]"
            ]
          },
          "metadata": {},
          "execution_count": 8
        }
      ]
    },
    {
      "cell_type": "markdown",
      "metadata": {
        "id": "T6K-glz9PqlY"
      },
      "source": [
        "<p>Vamos começar avaliando a nota final:</p>"
      ]
    },
    {
      "cell_type": "code",
      "metadata": {
        "colab": {
          "base_uri": "https://localhost:8080/",
          "height": 300
        },
        "id": "MYh_DOnMOqOC",
        "outputId": "93df759e-a6b6-4105-ac93-3cb0123a0de8"
      },
      "source": [
        "sns.scatterplot(data=df_notas_candidatos_sem_nulos, x=\"aprovado\", y=\"nota_Final\")"
      ],
      "execution_count": null,
      "outputs": [
        {
          "output_type": "execute_result",
          "data": {
            "text/plain": [
              "<matplotlib.axes._subplots.AxesSubplot at 0x7f6d931fa190>"
            ]
          },
          "metadata": {},
          "execution_count": 9
        },
        {
          "output_type": "display_data",
          "data": {
            "image/png": "[encoded data removed]",
            "text/plain": [
              "<Figure size 432x288 with 1 Axes>"
            ]
          },
          "metadata": {
            "needs_background": "light"
          }
        }
      ]
    },
    {
      "cell_type": "markdown",
      "metadata": {
        "id": "DGEbFB_6QJeN"
      },
      "source": [
        "<p>OPA! Vemos aqui que, como você já devia ter imaginado, a nota total é um valor decisório na aprovação do candidato. Iremos, apenas, visualizar de forma númerica: </p>"
      ]
    },
    {
      "cell_type": "code",
      "metadata": {
        "colab": {
          "base_uri": "https://localhost:8080/",
          "height": 187
        },
        "id": "ustE0WNeQGXu",
        "outputId": "86f9ff6a-b773-4945-ff87-aa1b52373bf2"
      },
      "source": [
        "print('Máximo')\n",
        "display(df_notas_candidatos_sem_nulos.groupby('aprovado').nota_Final.max())\n",
        "print('Mínimo')\n",
        "display(df_notas_candidatos_sem_nulos.groupby('aprovado').nota_Final.min())"
      ],
      "execution_count": null,
      "outputs": [
        {
          "output_type": "stream",
          "name": "stdout",
          "text": [
            "Máximo\n"
          ]
        },
        {
          "output_type": "display_data",
          "data": {
            "text/plain": [
              "aprovado\n",
              "False    0.699340\n",
              "True     0.883656\n",
              "Name: nota_Final, dtype: float32"
            ]
          },
          "metadata": {}
        },
        {
          "output_type": "stream",
          "name": "stdout",
          "text": [
            "Mínimo\n"
          ]
        },
        {
          "output_type": "display_data",
          "data": {
            "text/plain": [
              "aprovado\n",
              "False    0.530000\n",
              "True     0.703701\n",
              "Name: nota_Final, dtype: float32"
            ]
          },
          "metadata": {}
        }
      ]
    },
    {
      "cell_type": "markdown",
      "metadata": {
        "id": "rWq_ZSmkQrjt"
      },
      "source": [
        "<p>Olha, agora, nós temos a certeza que a nota é o valor que decide a aprovação, pois o aprovado de menor nota foi de 0,7 e o reprovado de maior nota foi de 0,6. \"Okay, Victor, a nota é o valor decretório, mas será se algumas notas tem peso maior que outras?\". Ótima pergunta! E é, extremamente, importante de ser avaliado. Segue: </p>"
      ]
    },
    {
      "cell_type": "code",
      "metadata": {
        "colab": {
          "base_uri": "https://localhost:8080/"
        },
        "id": "vkfvxtkGQqrG",
        "outputId": "1980fa28-a603-488c-f521-0e3a96c5fffc"
      },
      "source": [
        "for i in range(5): \n",
        "  print(f\"Linha {i+1} media = {df_notas_candidatos_sem_nulos.iloc[i,2:7].values.mean()}\")"
      ],
      "execution_count": null,
      "outputs": [
        {
          "output_type": "stream",
          "name": "stdout",
          "text": [
            "Linha 1 media = 0.8200211524963379\n",
            "Linha 2 media = 0.5300000309944153\n",
            "Linha 3 media = 0.8836560249328613\n",
            "Linha 4 media = 0.5750313997268677\n",
            "Linha 5 media = 0.6405770182609558\n"
          ]
        }
      ]
    },
    {
      "cell_type": "markdown",
      "metadata": {
        "id": "9KwfcOzYSyav"
      },
      "source": [
        "<p>Bem, nas linhas acima, nós calculamos as médias das notas e elas totalizaram na nota notal. Ou seja, todas as notas tem peso igual no cálculo da nota total. \"Victor, mas será se tiveram mais aprovados ou reprovados?\". Boa, vamos dar uma olhada: </p>"
      ]
    },
    {
      "cell_type": "code",
      "metadata": {
        "colab": {
          "base_uri": "https://localhost:8080/"
        },
        "id": "FwrD2PQASrIm",
        "outputId": "3bb03744-e60f-411f-e8f2-8108f8cd263e"
      },
      "source": [
        "false,true = df_notas_candidatos_sem_nulos.groupby('aprovado').aprovado.count()\n",
        "print(f'Cerca de {round(true*100/(true+false),2)}% dos participantes(não nulos) foram aprovados')"
      ],
      "execution_count": null,
      "outputs": [
        {
          "output_type": "stream",
          "name": "stdout",
          "text": [
            "Cerca de 39.13% dos participantes(não nulos) foram aprovados\n"
          ]
        }
      ]
    },
    {
      "cell_type": "markdown",
      "metadata": {
        "id": "Wj_OshaZV7pV"
      },
      "source": [
        "<p>Dessa forma, vemos que quase 40% foram aprovados. Então, se você tivesse que chutar, ao acaso, se um candidato seria ou não aprovado, você deveria apostar que ele não seria aprovado.</p>"
      ]
    },
    {
      "cell_type": "markdown",
      "metadata": {
        "id": "VCqQh8xqWnwm"
      },
      "source": [
        "Resumindo, nessa etapa, nós entendemos que a nota total é a variável que decide a aprovação, que ela é calculada pela média das outras notas e que apenas 40% dos candidatos são aprovados."
      ]
    },
    {
      "cell_type": "markdown",
      "metadata": {
        "id": "IFaKuAaHae5D"
      },
      "source": [
        "# Entendendo as variáveis que influenciam na aprovação"
      ]
    },
    {
      "cell_type": "markdown",
      "metadata": {
        "id": "so1GcG0ycSer"
      },
      "source": [
        "<p>Para começar, é importante salientar que, após as etapas anteriores, eu obtive o insight que prever as 5 notas faltantes - para calcular a nota total e verificar se o candidato será aprovado - era inviável. Uma vez que eu criaria 5 modelos, cada um para prever sua respectiva nota. Dessa forma, as chances de erro cresceriam. Por exemplo, se cada um de nossos modelos atingissem incríveis 95% de acurácia, as chances dele acertar todas as notas e consequentemente a nota total seria: (95/100)**5 = 77/100</p>\n",
        "<p>Assim, nós vemos que os meus 5 ótimos modelos unidos teriam 77% de acurácia. Dessa maneira, nós vemos que a acurácia vai cair muito. No entanto, atingir 5 vezes uma acurácia de 95% é seria MUITO difícil de acontecer. Então, a nossa precisão cairia ainda mais. Para solucionar esse empasse, eu decidi apenas tentar prever se o candidato será ou não aprovado sem saber as notas dele, mas sim as habilidades e características dele. Tendo isso em mente, vamos entender quais variáveis influenciam nessa aprovação. Para isso, vamos começar criando um novo DataFrame com as características do candidato e o status de aprovação:</p>\n"
      ]
    },
    {
      "cell_type": "code",
      "metadata": {
        "colab": {
          "base_uri": "https://localhost:8080/",
          "height": 165
        },
        "id": "dtqFxSxcai7g",
        "outputId": "f7b0cf97-28d7-459b-d38c-79e9259ee151"
      },
      "source": [
        "df_candidatos_sem_nulos_com_nota = df_candidatos_sem_nulos.copy()\n",
        "df_candidatos_sem_nulos_com_nota = df_candidatos_sem_nulos_com_nota.assign(aprovado = df_notas_candidatos_sem_nulos['aprovado'])\n",
        "df_candidatos_sem_nulos_com_nota.head(2)"
      ],
      "execution_count": null,
      "outputs": [
        {
          "output_type": "execute_result",
          "data": {
            "text/html": [
              "<div>\n",
              "<style scoped>\n",
              "    .dataframe tbody tr th:only-of-type {\n",
              "        vertical-align: middle;\n",
              "    }\n",
              "\n",
              "    .dataframe tbody tr th {\n",
              "        vertical-align: top;\n",
              "    }\n",
              "\n",
              "    .dataframe thead th {\n",
              "        text-align: right;\n",
              "    }\n",
              "</style>\n",
              "<table border=\"1\" class=\"dataframe\">\n",
              "  <thead>\n",
              "    <tr style=\"text-align: right;\">\n",
              "      <th></th>\n",
              "      <th>id_candidato</th>\n",
              "      <th>nome</th>\n",
              "      <th>idade</th>\n",
              "      <th>grande_vitoria</th>\n",
              "      <th>trab_presencial</th>\n",
              "      <th>horas_estagio</th>\n",
              "      <th>turno_estagio</th>\n",
              "      <th>ingles_leitura</th>\n",
              "      <th>ingles_escrita</th>\n",
              "      <th>ingles_conversa</th>\n",
              "      <th>ingles_vivencia_ext</th>\n",
              "      <th>titulacao</th>\n",
              "      <th>curso</th>\n",
              "      <th>primeira_graduacao</th>\n",
              "      <th>previsao_formacao</th>\n",
              "      <th>progresso_curso</th>\n",
              "      <th>estagio_DS</th>\n",
              "      <th>IC</th>\n",
              "      <th>TCC</th>\n",
              "      <th>tool_python</th>\n",
              "      <th>tool_R</th>\n",
              "      <th>tool_MATLAB</th>\n",
              "      <th>tool_sql</th>\n",
              "      <th>tool_dw</th>\n",
              "      <th>tool_BD</th>\n",
              "      <th>tool_cloud</th>\n",
              "      <th>tool_scala</th>\n",
              "      <th>tool_spark</th>\n",
              "      <th>tool_net</th>\n",
              "      <th>tool_rapidminer</th>\n",
              "      <th>tool_kubernets</th>\n",
              "      <th>tool_docker</th>\n",
              "      <th>tool_ssas</th>\n",
              "      <th>tool_tensorflow</th>\n",
              "      <th>tool_keras</th>\n",
              "      <th>tool_c++</th>\n",
              "      <th>tool_C#</th>\n",
              "      <th>tool_pytorch</th>\n",
              "      <th>tool_sklearn</th>\n",
              "      <th>tool_git</th>\n",
              "      <th>tool_pbi</th>\n",
              "      <th>tool_tableau</th>\n",
              "      <th>tool_qlick</th>\n",
              "      <th>tool_plotly</th>\n",
              "      <th>algoritmo_aprend_super</th>\n",
              "      <th>algoritmo_aprend_nao_super</th>\n",
              "      <th>algoritmo_aprend_refor</th>\n",
              "      <th>algoritmo_aprend_profun</th>\n",
              "      <th>algoritmo_modelagem_preditiva</th>\n",
              "      <th>algoritmo_modelavem_multivariada</th>\n",
              "      <th>algoritmo_visao_computacional</th>\n",
              "      <th>algoritmo_pdi</th>\n",
              "      <th>algoritmo_pds</th>\n",
              "      <th>algoritmo_busca_inteligente</th>\n",
              "      <th>algoritmo_otimizacao</th>\n",
              "      <th>algoritmo_sist_sugestao</th>\n",
              "      <th>algoritmo_robotica</th>\n",
              "      <th>aprovado</th>\n",
              "    </tr>\n",
              "  </thead>\n",
              "  <tbody>\n",
              "    <tr>\n",
              "      <th>1</th>\n",
              "      <td>1</td>\n",
              "      <td>Asha Greyjoy</td>\n",
              "      <td>24</td>\n",
              "      <td>True</td>\n",
              "      <td>True</td>\n",
              "      <td>30h</td>\n",
              "      <td>full</td>\n",
              "      <td>F</td>\n",
              "      <td>A</td>\n",
              "      <td>A</td>\n",
              "      <td>6meses</td>\n",
              "      <td>graduacao</td>\n",
              "      <td>A</td>\n",
              "      <td>True</td>\n",
              "      <td>&gt;2022/2</td>\n",
              "      <td>2/3</td>\n",
              "      <td>1</td>\n",
              "      <td>Não</td>\n",
              "      <td>Fazendo</td>\n",
              "      <td>Tenho_domínio</td>\n",
              "      <td>Já_ouvi_Falar</td>\n",
              "      <td>Já_trabalhei</td>\n",
              "      <td>Já_trabalhei</td>\n",
              "      <td>Já_ouvi_Falar</td>\n",
              "      <td>Já_ouvi_Falar</td>\n",
              "      <td>Tenho_domínio</td>\n",
              "      <td>Já_ouvi_Falar</td>\n",
              "      <td>Já_ouvi_Falar</td>\n",
              "      <td>Já_ouvi_Falar</td>\n",
              "      <td>Já_trabalhei</td>\n",
              "      <td>Já_ouvi_Falar</td>\n",
              "      <td>Já_trabalhei</td>\n",
              "      <td>Nunca_nem_vi</td>\n",
              "      <td>Já_ouvi_Falar</td>\n",
              "      <td>Tenho_domínio</td>\n",
              "      <td>Já_ouvi_Falar</td>\n",
              "      <td>Já_ouvi_Falar</td>\n",
              "      <td>Já_ouvi_Falar</td>\n",
              "      <td>Tenho_domínio</td>\n",
              "      <td>Tenho_domínio</td>\n",
              "      <td>Já_ouvi_Falar</td>\n",
              "      <td>Já_ouvi_Falar</td>\n",
              "      <td>Já_ouvi_Falar</td>\n",
              "      <td>Já_trabalhei</td>\n",
              "      <td>Desenvolvi_grandes_projetos_com_isso</td>\n",
              "      <td>Só_estudei_nunca_apliquei</td>\n",
              "      <td>Nunca_estudei_e_nunca_apliquei</td>\n",
              "      <td>Desenvolvi_grandes_projetos_com_isso</td>\n",
              "      <td>Desenvolvi_grandes_projetos_com_isso</td>\n",
              "      <td>Desenvolvi_grandes_projetos_com_isso</td>\n",
              "      <td>Apliquei_em_algum_trabalho</td>\n",
              "      <td>Só_estudei_nunca_apliquei</td>\n",
              "      <td>Só_estudei_nunca_apliquei</td>\n",
              "      <td>Nunca_estudei_e_nunca_apliquei</td>\n",
              "      <td>Só_estudei_nunca_apliquei</td>\n",
              "      <td>Nunca_estudei_e_nunca_apliquei</td>\n",
              "      <td>Nunca_estudei_e_nunca_apliquei</td>\n",
              "      <td>True</td>\n",
              "    </tr>\n",
              "    <tr>\n",
              "      <th>2</th>\n",
              "      <td>2</td>\n",
              "      <td>Balon Greyjoy</td>\n",
              "      <td>23</td>\n",
              "      <td>True</td>\n",
              "      <td>True</td>\n",
              "      <td>30h</td>\n",
              "      <td>restrito</td>\n",
              "      <td>B</td>\n",
              "      <td>B</td>\n",
              "      <td>B</td>\n",
              "      <td>0meses</td>\n",
              "      <td>graduacao</td>\n",
              "      <td>C</td>\n",
              "      <td>True</td>\n",
              "      <td>2020/2</td>\n",
              "      <td>2/3</td>\n",
              "      <td>0</td>\n",
              "      <td>Não</td>\n",
              "      <td>Não</td>\n",
              "      <td>Já_ouvi_Falar</td>\n",
              "      <td>Nunca_nem_vi</td>\n",
              "      <td>Nunca_nem_vi</td>\n",
              "      <td>Já_ouvi_Falar</td>\n",
              "      <td>Nunca_nem_vi</td>\n",
              "      <td>Já_ouvi_Falar</td>\n",
              "      <td>Já_ouvi_Falar</td>\n",
              "      <td>Nunca_nem_vi</td>\n",
              "      <td>Nunca_nem_vi</td>\n",
              "      <td>Nunca_nem_vi</td>\n",
              "      <td>Nunca_nem_vi</td>\n",
              "      <td>Nunca_nem_vi</td>\n",
              "      <td>Nunca_nem_vi</td>\n",
              "      <td>Nunca_nem_vi</td>\n",
              "      <td>Nunca_nem_vi</td>\n",
              "      <td>Nunca_nem_vi</td>\n",
              "      <td>Já_ouvi_Falar</td>\n",
              "      <td>Já_ouvi_Falar</td>\n",
              "      <td>Nunca_nem_vi</td>\n",
              "      <td>Nunca_nem_vi</td>\n",
              "      <td>Nunca_nem_vi</td>\n",
              "      <td>Já_ouvi_Falar</td>\n",
              "      <td>Já_ouvi_Falar</td>\n",
              "      <td>Nunca_nem_vi</td>\n",
              "      <td>Nunca_nem_vi</td>\n",
              "      <td>Nunca_estudei_e_nunca_apliquei</td>\n",
              "      <td>Nunca_estudei_e_nunca_apliquei</td>\n",
              "      <td>Nunca_estudei_e_nunca_apliquei</td>\n",
              "      <td>Nunca_estudei_e_nunca_apliquei</td>\n",
              "      <td>Nunca_estudei_e_nunca_apliquei</td>\n",
              "      <td>Nunca_estudei_e_nunca_apliquei</td>\n",
              "      <td>Nunca_estudei_e_nunca_apliquei</td>\n",
              "      <td>Nunca_estudei_e_nunca_apliquei</td>\n",
              "      <td>Nunca_estudei_e_nunca_apliquei</td>\n",
              "      <td>Nunca_estudei_e_nunca_apliquei</td>\n",
              "      <td>Nunca_estudei_e_nunca_apliquei</td>\n",
              "      <td>Nunca_estudei_e_nunca_apliquei</td>\n",
              "      <td>Nunca_estudei_e_nunca_apliquei</td>\n",
              "      <td>False</td>\n",
              "    </tr>\n",
              "  </tbody>\n",
              "</table>\n",
              "</div>"
            ],
            "text/plain": [
              "   id_candidato           nome  ...              algoritmo_robotica  aprovado\n",
              "1             1   Asha Greyjoy  ...  Nunca_estudei_e_nunca_apliquei      True\n",
              "2             2  Balon Greyjoy  ...  Nunca_estudei_e_nunca_apliquei     False\n",
              "\n",
              "[2 rows x 58 columns]"
            ]
          },
          "metadata": {},
          "execution_count": 13
        }
      ]
    },
    {
      "cell_type": "markdown",
      "metadata": {
        "id": "_kaBtfqZymWA"
      },
      "source": [
        "<p>Agora vamos dar uma conferida na relação de algumas variáveis com as aprovações:</p>"
      ]
    },
    {
      "cell_type": "code",
      "metadata": {
        "id": "7LulQO9js5gQ",
        "colab": {
          "base_uri": "https://localhost:8080/",
          "height": 322
        },
        "outputId": "f1548286-68dd-4190-98e3-fa42907ad766"
      },
      "source": [
        "x = df_candidatos_sem_nulos_com_nota['horas_estagio']\n",
        "y = df_candidatos_sem_nulos_com_nota['aprovado']\n",
        "pd.crosstab(index=x, columns=y).plot(kind='bar',title='Aprovações por horas de estagio', xlabel = 'Horas de estágio',ylabel='Frequência')"
      ],
      "execution_count": null,
      "outputs": [
        {
          "output_type": "execute_result",
          "data": {
            "text/plain": [
              "<matplotlib.axes._subplots.AxesSubplot at 0x7f6d9218d310>"
            ]
          },
          "metadata": {},
          "execution_count": 14
        },
        {
          "output_type": "display_data",
          "data": {
            "image/png": "[encoded data removed]",
            "text/plain": [
              "<Figure size 432x288 with 1 Axes>"
            ]
          },
          "metadata": {
            "needs_background": "light"
          }
        }
      ]
    },
    {
      "cell_type": "code",
      "metadata": {
        "colab": {
          "base_uri": "https://localhost:8080/",
          "height": 309
        },
        "id": "c8IExkzTL1gm",
        "outputId": "affe65cd-86b8-4cc1-b474-0a786cf756a7"
      },
      "source": [
        "x = df_candidatos_sem_nulos_com_nota['curso']\n",
        "y = df_candidatos_sem_nulos_com_nota['aprovado']\n",
        "pd.crosstab(index=x, columns=y).plot(kind='bar',title='Aprovações por curso', xlabel = 'Cursos',ylabel='Frequência')"
      ],
      "execution_count": null,
      "outputs": [
        {
          "output_type": "execute_result",
          "data": {
            "text/plain": [
              "<matplotlib.axes._subplots.AxesSubplot at 0x7f6d92126f10>"
            ]
          },
          "metadata": {},
          "execution_count": 15
        },
        {
          "output_type": "display_data",
          "data": {
            "image/png": "[encoded data removed]",
            "text/plain": [
              "<Figure size 432x288 with 1 Axes>"
            ]
          },
          "metadata": {
            "needs_background": "light"
          }
        }
      ]
    },
    {
      "cell_type": "code",
      "metadata": {
        "colab": {
          "base_uri": "https://localhost:8080/",
          "height": 346
        },
        "id": "T9I3d01IS8ul",
        "outputId": "e840ac4f-462e-462d-bfc4-356263a012ff"
      },
      "source": [
        "x = df_candidatos_sem_nulos_com_nota['previsao_formacao']\n",
        "y = df_candidatos_sem_nulos_com_nota['aprovado']\n",
        "pd.crosstab(index=x, columns=y).plot(kind='bar',title='Aprovações por previsão de formação', xlabel = 'Previsão de formação',ylabel='Frequência')"
      ],
      "execution_count": null,
      "outputs": [
        {
          "output_type": "execute_result",
          "data": {
            "text/plain": [
              "<matplotlib.axes._subplots.AxesSubplot at 0x7f6d92030b10>"
            ]
          },
          "metadata": {},
          "execution_count": 16
        },
        {
          "output_type": "display_data",
          "data": {
            "image/png": "[encoded data removed]",
            "text/plain": [
              "<Figure size 432x288 with 1 Axes>"
            ]
          },
          "metadata": {
            "needs_background": "light"
          }
        }
      ]
    },
    {
      "cell_type": "markdown",
      "metadata": {
        "id": "hFjeKxrYUckL"
      },
      "source": [
        "<p>Acima, nós vemos que cada valor, independente da coluna, tem aprovações diferentes dos outros valores. Ou seja, uma pessoa que irá se formar no período 2021/1 tem diferentes probabilidades de aprovação de alguém que irá se formar no 2022/2, por exemplo.</p>"
      ]
    },
    {
      "cell_type": "code",
      "metadata": {
        "colab": {
          "base_uri": "https://localhost:8080/",
          "height": 312
        },
        "id": "XMZizaGwS-pF",
        "outputId": "4859339d-a181-45fc-8627-04deea426bdd"
      },
      "source": [
        "display(df_candidatos_sem_nulos_com_nota.groupby('aprovado').idade.std().plot(kind='bar'))"
      ],
      "execution_count": null,
      "outputs": [
        {
          "output_type": "display_data",
          "data": {
            "text/plain": [
              "<matplotlib.axes._subplots.AxesSubplot at 0x7f6d92044c10>"
            ]
          },
          "metadata": {}
        },
        {
          "output_type": "display_data",
          "data": {
            "image/png": "[encoded data removed]",
            "text/plain": [
              "<Figure size 432x288 with 1 Axes>"
            ]
          },
          "metadata": {
            "needs_background": "light"
          }
        }
      ]
    },
    {
      "cell_type": "markdown",
      "metadata": {
        "id": "K_tpo52IV8xX"
      },
      "source": [
        "<p>Acima, nós calculamos o desvio padrão da idade dos aprovados e reprovados. \"Victor, não entendi o motivo\". Relaxa, vou te explicar agora. Como o desvio padrão das idades dos aprovados é relativamente baixo, nós podemos dizer que, geralmente, os aprovados tem suas idades em um curto intervalo.</p>"
      ]
    },
    {
      "cell_type": "code",
      "metadata": {
        "colab": {
          "base_uri": "https://localhost:8080/",
          "height": 302
        },
        "id": "M4do3rfEV7f5",
        "outputId": "52fe94e5-6d3f-43f9-fc08-9ff430299438"
      },
      "source": [
        "x = df_candidatos_sem_nulos_com_nota['estagio_DS']\n",
        "y = df_candidatos_sem_nulos_com_nota['aprovado']\n",
        "pd.crosstab(index=x, columns=y).plot(kind='bar')"
      ],
      "execution_count": null,
      "outputs": [
        {
          "output_type": "execute_result",
          "data": {
            "text/plain": [
              "<matplotlib.axes._subplots.AxesSubplot at 0x7f6d91f38310>"
            ]
          },
          "metadata": {},
          "execution_count": 18
        },
        {
          "output_type": "display_data",
          "data": {
            "image/png": "[encoded data removed]",
            "text/plain": [
              "<Figure size 432x288 with 1 Axes>"
            ]
          },
          "metadata": {
            "needs_background": "light"
          }
        }
      ]
    },
    {
      "cell_type": "markdown",
      "metadata": {
        "id": "PKptUVwwW1ZQ"
      },
      "source": [
        "<p>\"Olha, Victor, pessoas que já fizeram estágios não conseguem ser aprovados\". Calma lá, jovem, realmente pode haver essa premissa na empresa. Contudo, nós, como analistas, não podemos afirmar isso sem saber da empresa. Dessa forma, mesmo que ninguém que já esteve em um estágio foi aprovado, o nosso modelo não deve considerar isso um fator que impossibilita a aprovação. </p>"
      ]
    },
    {
      "cell_type": "code",
      "metadata": {
        "colab": {
          "base_uri": "https://localhost:8080/",
          "height": 338
        },
        "id": "ZZgQyjLeW0YL",
        "outputId": "b128e238-f66b-4b59-d714-84b97d261767"
      },
      "source": [
        "x = df_candidatos_sem_nulos_com_nota['IC']\n",
        "y = df_candidatos_sem_nulos_com_nota['aprovado']\n",
        "pd.crosstab(index=x, columns=y).plot(kind='bar')"
      ],
      "execution_count": null,
      "outputs": [
        {
          "output_type": "execute_result",
          "data": {
            "text/plain": [
              "<matplotlib.axes._subplots.AxesSubplot at 0x7f6d91f3f250>"
            ]
          },
          "metadata": {},
          "execution_count": 19
        },
        {
          "output_type": "display_data",
          "data": {
            "image/png": "[encoded data removed]",
            "text/plain": [
              "<Figure size 432x288 with 1 Axes>"
            ]
          },
          "metadata": {
            "needs_background": "light"
          }
        }
      ]
    },
    {
      "cell_type": "markdown",
      "metadata": {
        "id": "9GbzI5okbbcI"
      },
      "source": [
        "<p>Vemos que, na situação da Iniciação Científica, temos a mesma quantidade de pessoas aprovadas e reprovadas que estavam fazendo-o. \"Victor, então nosso modelo vai chutar se vai ser aprovado ou não?\". Não, em casos como esse, nosso modelo dará mais importância aos outros fatores.</p>\n",
        "<p>Resumindo, nós vamos utilizar, além das habilidades dos candidatos, as suas características para, assim, prever se o candidato será ou não aprovado.</p>"
      ]
    },
    {
      "cell_type": "markdown",
      "metadata": {
        "id": "VE2J2oPoc0ga"
      },
      "source": [
        "# Pré-processamento dos dados\n"
      ]
    },
    {
      "cell_type": "markdown",
      "metadata": {
        "id": "MktrWOxxehgw"
      },
      "source": [
        "<p>Antes de tudo, nós precisamos lembrar que um modelo de Machine Learning \"esconde\" um modelo matemático e, em um modelo matemático, nós não podemos colocar como entrada uma palavra, então nós transformaremos os valores preditores e o valor de aprovação em números. </p>"
      ]
    },
    {
      "cell_type": "code",
      "metadata": {
        "colab": {
          "base_uri": "https://localhost:8080/",
          "height": 165
        },
        "id": "zRP1vt5BbaPa",
        "outputId": "09e72c8b-ac39-4b95-92a7-a536546569df"
      },
      "source": [
        "df_candidatos_sem_nulos_com_nota.head(2)"
      ],
      "execution_count": null,
      "outputs": [
        {
          "output_type": "execute_result",
          "data": {
            "text/html": [
              "<div>\n",
              "<style scoped>\n",
              "    .dataframe tbody tr th:only-of-type {\n",
              "        vertical-align: middle;\n",
              "    }\n",
              "\n",
              "    .dataframe tbody tr th {\n",
              "        vertical-align: top;\n",
              "    }\n",
              "\n",
              "    .dataframe thead th {\n",
              "        text-align: right;\n",
              "    }\n",
              "</style>\n",
              "<table border=\"1\" class=\"dataframe\">\n",
              "  <thead>\n",
              "    <tr style=\"text-align: right;\">\n",
              "      <th></th>\n",
              "      <th>id_candidato</th>\n",
              "      <th>nome</th>\n",
              "      <th>idade</th>\n",
              "      <th>grande_vitoria</th>\n",
              "      <th>trab_presencial</th>\n",
              "      <th>horas_estagio</th>\n",
              "      <th>turno_estagio</th>\n",
              "      <th>ingles_leitura</th>\n",
              "      <th>ingles_escrita</th>\n",
              "      <th>ingles_conversa</th>\n",
              "      <th>ingles_vivencia_ext</th>\n",
              "      <th>titulacao</th>\n",
              "      <th>curso</th>\n",
              "      <th>primeira_graduacao</th>\n",
              "      <th>previsao_formacao</th>\n",
              "      <th>progresso_curso</th>\n",
              "      <th>estagio_DS</th>\n",
              "      <th>IC</th>\n",
              "      <th>TCC</th>\n",
              "      <th>tool_python</th>\n",
              "      <th>tool_R</th>\n",
              "      <th>tool_MATLAB</th>\n",
              "      <th>tool_sql</th>\n",
              "      <th>tool_dw</th>\n",
              "      <th>tool_BD</th>\n",
              "      <th>tool_cloud</th>\n",
              "      <th>tool_scala</th>\n",
              "      <th>tool_spark</th>\n",
              "      <th>tool_net</th>\n",
              "      <th>tool_rapidminer</th>\n",
              "      <th>tool_kubernets</th>\n",
              "      <th>tool_docker</th>\n",
              "      <th>tool_ssas</th>\n",
              "      <th>tool_tensorflow</th>\n",
              "      <th>tool_keras</th>\n",
              "      <th>tool_c++</th>\n",
              "      <th>tool_C#</th>\n",
              "      <th>tool_pytorch</th>\n",
              "      <th>tool_sklearn</th>\n",
              "      <th>tool_git</th>\n",
              "      <th>tool_pbi</th>\n",
              "      <th>tool_tableau</th>\n",
              "      <th>tool_qlick</th>\n",
              "      <th>tool_plotly</th>\n",
              "      <th>algoritmo_aprend_super</th>\n",
              "      <th>algoritmo_aprend_nao_super</th>\n",
              "      <th>algoritmo_aprend_refor</th>\n",
              "      <th>algoritmo_aprend_profun</th>\n",
              "      <th>algoritmo_modelagem_preditiva</th>\n",
              "      <th>algoritmo_modelavem_multivariada</th>\n",
              "      <th>algoritmo_visao_computacional</th>\n",
              "      <th>algoritmo_pdi</th>\n",
              "      <th>algoritmo_pds</th>\n",
              "      <th>algoritmo_busca_inteligente</th>\n",
              "      <th>algoritmo_otimizacao</th>\n",
              "      <th>algoritmo_sist_sugestao</th>\n",
              "      <th>algoritmo_robotica</th>\n",
              "      <th>aprovado</th>\n",
              "    </tr>\n",
              "  </thead>\n",
              "  <tbody>\n",
              "    <tr>\n",
              "      <th>1</th>\n",
              "      <td>1</td>\n",
              "      <td>Asha Greyjoy</td>\n",
              "      <td>24</td>\n",
              "      <td>True</td>\n",
              "      <td>True</td>\n",
              "      <td>30h</td>\n",
              "      <td>full</td>\n",
              "      <td>F</td>\n",
              "      <td>A</td>\n",
              "      <td>A</td>\n",
              "      <td>6meses</td>\n",
              "      <td>graduacao</td>\n",
              "      <td>A</td>\n",
              "      <td>True</td>\n",
              "      <td>&gt;2022/2</td>\n",
              "      <td>2/3</td>\n",
              "      <td>1</td>\n",
              "      <td>Não</td>\n",
              "      <td>Fazendo</td>\n",
              "      <td>Tenho_domínio</td>\n",
              "      <td>Já_ouvi_Falar</td>\n",
              "      <td>Já_trabalhei</td>\n",
              "      <td>Já_trabalhei</td>\n",
              "      <td>Já_ouvi_Falar</td>\n",
              "      <td>Já_ouvi_Falar</td>\n",
              "      <td>Tenho_domínio</td>\n",
              "      <td>Já_ouvi_Falar</td>\n",
              "      <td>Já_ouvi_Falar</td>\n",
              "      <td>Já_ouvi_Falar</td>\n",
              "      <td>Já_trabalhei</td>\n",
              "      <td>Já_ouvi_Falar</td>\n",
              "      <td>Já_trabalhei</td>\n",
              "      <td>Nunca_nem_vi</td>\n",
              "      <td>Já_ouvi_Falar</td>\n",
              "      <td>Tenho_domínio</td>\n",
              "      <td>Já_ouvi_Falar</td>\n",
              "      <td>Já_ouvi_Falar</td>\n",
              "      <td>Já_ouvi_Falar</td>\n",
              "      <td>Tenho_domínio</td>\n",
              "      <td>Tenho_domínio</td>\n",
              "      <td>Já_ouvi_Falar</td>\n",
              "      <td>Já_ouvi_Falar</td>\n",
              "      <td>Já_ouvi_Falar</td>\n",
              "      <td>Já_trabalhei</td>\n",
              "      <td>Desenvolvi_grandes_projetos_com_isso</td>\n",
              "      <td>Só_estudei_nunca_apliquei</td>\n",
              "      <td>Nunca_estudei_e_nunca_apliquei</td>\n",
              "      <td>Desenvolvi_grandes_projetos_com_isso</td>\n",
              "      <td>Desenvolvi_grandes_projetos_com_isso</td>\n",
              "      <td>Desenvolvi_grandes_projetos_com_isso</td>\n",
              "      <td>Apliquei_em_algum_trabalho</td>\n",
              "      <td>Só_estudei_nunca_apliquei</td>\n",
              "      <td>Só_estudei_nunca_apliquei</td>\n",
              "      <td>Nunca_estudei_e_nunca_apliquei</td>\n",
              "      <td>Só_estudei_nunca_apliquei</td>\n",
              "      <td>Nunca_estudei_e_nunca_apliquei</td>\n",
              "      <td>Nunca_estudei_e_nunca_apliquei</td>\n",
              "      <td>True</td>\n",
              "    </tr>\n",
              "    <tr>\n",
              "      <th>2</th>\n",
              "      <td>2</td>\n",
              "      <td>Balon Greyjoy</td>\n",
              "      <td>23</td>\n",
              "      <td>True</td>\n",
              "      <td>True</td>\n",
              "      <td>30h</td>\n",
              "      <td>restrito</td>\n",
              "      <td>B</td>\n",
              "      <td>B</td>\n",
              "      <td>B</td>\n",
              "      <td>0meses</td>\n",
              "      <td>graduacao</td>\n",
              "      <td>C</td>\n",
              "      <td>True</td>\n",
              "      <td>2020/2</td>\n",
              "      <td>2/3</td>\n",
              "      <td>0</td>\n",
              "      <td>Não</td>\n",
              "      <td>Não</td>\n",
              "      <td>Já_ouvi_Falar</td>\n",
              "      <td>Nunca_nem_vi</td>\n",
              "      <td>Nunca_nem_vi</td>\n",
              "      <td>Já_ouvi_Falar</td>\n",
              "      <td>Nunca_nem_vi</td>\n",
              "      <td>Já_ouvi_Falar</td>\n",
              "      <td>Já_ouvi_Falar</td>\n",
              "      <td>Nunca_nem_vi</td>\n",
              "      <td>Nunca_nem_vi</td>\n",
              "      <td>Nunca_nem_vi</td>\n",
              "      <td>Nunca_nem_vi</td>\n",
              "      <td>Nunca_nem_vi</td>\n",
              "      <td>Nunca_nem_vi</td>\n",
              "      <td>Nunca_nem_vi</td>\n",
              "      <td>Nunca_nem_vi</td>\n",
              "      <td>Nunca_nem_vi</td>\n",
              "      <td>Já_ouvi_Falar</td>\n",
              "      <td>Já_ouvi_Falar</td>\n",
              "      <td>Nunca_nem_vi</td>\n",
              "      <td>Nunca_nem_vi</td>\n",
              "      <td>Nunca_nem_vi</td>\n",
              "      <td>Já_ouvi_Falar</td>\n",
              "      <td>Já_ouvi_Falar</td>\n",
              "      <td>Nunca_nem_vi</td>\n",
              "      <td>Nunca_nem_vi</td>\n",
              "      <td>Nunca_estudei_e_nunca_apliquei</td>\n",
              "      <td>Nunca_estudei_e_nunca_apliquei</td>\n",
              "      <td>Nunca_estudei_e_nunca_apliquei</td>\n",
              "      <td>Nunca_estudei_e_nunca_apliquei</td>\n",
              "      <td>Nunca_estudei_e_nunca_apliquei</td>\n",
              "      <td>Nunca_estudei_e_nunca_apliquei</td>\n",
              "      <td>Nunca_estudei_e_nunca_apliquei</td>\n",
              "      <td>Nunca_estudei_e_nunca_apliquei</td>\n",
              "      <td>Nunca_estudei_e_nunca_apliquei</td>\n",
              "      <td>Nunca_estudei_e_nunca_apliquei</td>\n",
              "      <td>Nunca_estudei_e_nunca_apliquei</td>\n",
              "      <td>Nunca_estudei_e_nunca_apliquei</td>\n",
              "      <td>Nunca_estudei_e_nunca_apliquei</td>\n",
              "      <td>False</td>\n",
              "    </tr>\n",
              "  </tbody>\n",
              "</table>\n",
              "</div>"
            ],
            "text/plain": [
              "   id_candidato           nome  ...              algoritmo_robotica  aprovado\n",
              "1             1   Asha Greyjoy  ...  Nunca_estudei_e_nunca_apliquei      True\n",
              "2             2  Balon Greyjoy  ...  Nunca_estudei_e_nunca_apliquei     False\n",
              "\n",
              "[2 rows x 58 columns]"
            ]
          },
          "metadata": {},
          "execution_count": 20
        }
      ]
    },
    {
      "cell_type": "code",
      "metadata": {
        "id": "5Zkyl4v3f6L_"
      },
      "source": [
        "x_predict = df_candidatos_sem_nulos_com_nota.iloc[:,2:57]\n",
        "y_predict = df_candidatos_sem_nulos_com_nota.iloc[:,-1]"
      ],
      "execution_count": null,
      "outputs": []
    },
    {
      "cell_type": "code",
      "metadata": {
        "id": "32uE5o54gPJz"
      },
      "source": [
        "def true_or_false(row):\n",
        "  if row == 'True':\n",
        "    return 1\n",
        "  else:\n",
        "    return 0\n",
        "y_predict = [y_predict.apply(true_or_false)]"
      ],
      "execution_count": null,
      "outputs": []
    },
    {
      "cell_type": "code",
      "metadata": {
        "colab": {
          "base_uri": "https://localhost:8080/",
          "height": 131
        },
        "id": "R4v2g0bTgQPN",
        "outputId": "7bb3aaa0-2386-4bf8-a84b-8ec13f90173a"
      },
      "source": [
        "label_encoder = LabelEncoder()\n",
        "for i in range(0,55):\n",
        "  x_predict.iloc[:,i] = label_encoder.fit_transform(x_predict.iloc[:,i]) \n",
        "x_predict.head(2)"
      ],
      "execution_count": null,
      "outputs": [
        {
          "output_type": "execute_result",
          "data": {
            "text/html": [
              "<div>\n",
              "<style scoped>\n",
              "    .dataframe tbody tr th:only-of-type {\n",
              "        vertical-align: middle;\n",
              "    }\n",
              "\n",
              "    .dataframe tbody tr th {\n",
              "        vertical-align: top;\n",
              "    }\n",
              "\n",
              "    .dataframe thead th {\n",
              "        text-align: right;\n",
              "    }\n",
              "</style>\n",
              "<table border=\"1\" class=\"dataframe\">\n",
              "  <thead>\n",
              "    <tr style=\"text-align: right;\">\n",
              "      <th></th>\n",
              "      <th>idade</th>\n",
              "      <th>grande_vitoria</th>\n",
              "      <th>trab_presencial</th>\n",
              "      <th>horas_estagio</th>\n",
              "      <th>turno_estagio</th>\n",
              "      <th>ingles_leitura</th>\n",
              "      <th>ingles_escrita</th>\n",
              "      <th>ingles_conversa</th>\n",
              "      <th>ingles_vivencia_ext</th>\n",
              "      <th>titulacao</th>\n",
              "      <th>curso</th>\n",
              "      <th>primeira_graduacao</th>\n",
              "      <th>previsao_formacao</th>\n",
              "      <th>progresso_curso</th>\n",
              "      <th>estagio_DS</th>\n",
              "      <th>IC</th>\n",
              "      <th>TCC</th>\n",
              "      <th>tool_python</th>\n",
              "      <th>tool_R</th>\n",
              "      <th>tool_MATLAB</th>\n",
              "      <th>tool_sql</th>\n",
              "      <th>tool_dw</th>\n",
              "      <th>tool_BD</th>\n",
              "      <th>tool_cloud</th>\n",
              "      <th>tool_scala</th>\n",
              "      <th>tool_spark</th>\n",
              "      <th>tool_net</th>\n",
              "      <th>tool_rapidminer</th>\n",
              "      <th>tool_kubernets</th>\n",
              "      <th>tool_docker</th>\n",
              "      <th>tool_ssas</th>\n",
              "      <th>tool_tensorflow</th>\n",
              "      <th>tool_keras</th>\n",
              "      <th>tool_c++</th>\n",
              "      <th>tool_C#</th>\n",
              "      <th>tool_pytorch</th>\n",
              "      <th>tool_sklearn</th>\n",
              "      <th>tool_git</th>\n",
              "      <th>tool_pbi</th>\n",
              "      <th>tool_tableau</th>\n",
              "      <th>tool_qlick</th>\n",
              "      <th>tool_plotly</th>\n",
              "      <th>algoritmo_aprend_super</th>\n",
              "      <th>algoritmo_aprend_nao_super</th>\n",
              "      <th>algoritmo_aprend_refor</th>\n",
              "      <th>algoritmo_aprend_profun</th>\n",
              "      <th>algoritmo_modelagem_preditiva</th>\n",
              "      <th>algoritmo_modelavem_multivariada</th>\n",
              "      <th>algoritmo_visao_computacional</th>\n",
              "      <th>algoritmo_pdi</th>\n",
              "      <th>algoritmo_pds</th>\n",
              "      <th>algoritmo_busca_inteligente</th>\n",
              "      <th>algoritmo_otimizacao</th>\n",
              "      <th>algoritmo_sist_sugestao</th>\n",
              "      <th>algoritmo_robotica</th>\n",
              "    </tr>\n",
              "  </thead>\n",
              "  <tbody>\n",
              "    <tr>\n",
              "      <th>1</th>\n",
              "      <td>5</td>\n",
              "      <td>1</td>\n",
              "      <td>1</td>\n",
              "      <td>1</td>\n",
              "      <td>0</td>\n",
              "      <td>2</td>\n",
              "      <td>0</td>\n",
              "      <td>0</td>\n",
              "      <td>2</td>\n",
              "      <td>0</td>\n",
              "      <td>0</td>\n",
              "      <td>1</td>\n",
              "      <td>5</td>\n",
              "      <td>2</td>\n",
              "      <td>1</td>\n",
              "      <td>2</td>\n",
              "      <td>1</td>\n",
              "      <td>3</td>\n",
              "      <td>0</td>\n",
              "      <td>1</td>\n",
              "      <td>1</td>\n",
              "      <td>0</td>\n",
              "      <td>0</td>\n",
              "      <td>3</td>\n",
              "      <td>0</td>\n",
              "      <td>0</td>\n",
              "      <td>0</td>\n",
              "      <td>1</td>\n",
              "      <td>0</td>\n",
              "      <td>1</td>\n",
              "      <td>2</td>\n",
              "      <td>0</td>\n",
              "      <td>3</td>\n",
              "      <td>0</td>\n",
              "      <td>0</td>\n",
              "      <td>0</td>\n",
              "      <td>3</td>\n",
              "      <td>3</td>\n",
              "      <td>0</td>\n",
              "      <td>0</td>\n",
              "      <td>0</td>\n",
              "      <td>1</td>\n",
              "      <td>1</td>\n",
              "      <td>3</td>\n",
              "      <td>1</td>\n",
              "      <td>1</td>\n",
              "      <td>1</td>\n",
              "      <td>1</td>\n",
              "      <td>0</td>\n",
              "      <td>3</td>\n",
              "      <td>2</td>\n",
              "      <td>1</td>\n",
              "      <td>2</td>\n",
              "      <td>2</td>\n",
              "      <td>2</td>\n",
              "    </tr>\n",
              "    <tr>\n",
              "      <th>2</th>\n",
              "      <td>4</td>\n",
              "      <td>1</td>\n",
              "      <td>1</td>\n",
              "      <td>1</td>\n",
              "      <td>1</td>\n",
              "      <td>1</td>\n",
              "      <td>1</td>\n",
              "      <td>1</td>\n",
              "      <td>0</td>\n",
              "      <td>0</td>\n",
              "      <td>2</td>\n",
              "      <td>1</td>\n",
              "      <td>0</td>\n",
              "      <td>2</td>\n",
              "      <td>0</td>\n",
              "      <td>2</td>\n",
              "      <td>2</td>\n",
              "      <td>0</td>\n",
              "      <td>2</td>\n",
              "      <td>2</td>\n",
              "      <td>0</td>\n",
              "      <td>2</td>\n",
              "      <td>0</td>\n",
              "      <td>0</td>\n",
              "      <td>2</td>\n",
              "      <td>2</td>\n",
              "      <td>2</td>\n",
              "      <td>2</td>\n",
              "      <td>1</td>\n",
              "      <td>2</td>\n",
              "      <td>2</td>\n",
              "      <td>2</td>\n",
              "      <td>2</td>\n",
              "      <td>0</td>\n",
              "      <td>0</td>\n",
              "      <td>2</td>\n",
              "      <td>2</td>\n",
              "      <td>2</td>\n",
              "      <td>0</td>\n",
              "      <td>0</td>\n",
              "      <td>1</td>\n",
              "      <td>2</td>\n",
              "      <td>2</td>\n",
              "      <td>2</td>\n",
              "      <td>1</td>\n",
              "      <td>2</td>\n",
              "      <td>2</td>\n",
              "      <td>2</td>\n",
              "      <td>2</td>\n",
              "      <td>2</td>\n",
              "      <td>1</td>\n",
              "      <td>1</td>\n",
              "      <td>1</td>\n",
              "      <td>2</td>\n",
              "      <td>2</td>\n",
              "    </tr>\n",
              "  </tbody>\n",
              "</table>\n",
              "</div>"
            ],
            "text/plain": [
              "   idade  grande_vitoria  ...  algoritmo_sist_sugestao  algoritmo_robotica\n",
              "1      5               1  ...                        2                   2\n",
              "2      4               1  ...                        2                   2\n",
              "\n",
              "[2 rows x 55 columns]"
            ]
          },
          "metadata": {},
          "execution_count": 23
        }
      ]
    },
    {
      "cell_type": "markdown",
      "metadata": {
        "id": "alVOVWYygsMt"
      },
      "source": [
        "<p>Bem, como já sabemos, o modelo realizará operações matemáticas. Por isso, nós temos que colocar esses valores na mesma escala, a fim de que valores como a idade - que númericamente são maiores que valores do curso, por exemplo - tenham maiores pesos.</p>"
      ]
    },
    {
      "cell_type": "code",
      "metadata": {
        "id": "Ge_AfiSFglpu"
      },
      "source": [
        "standard = StandardScaler()\n",
        "x_predict = standard.fit_transform(x_predict)\n",
        "y_predict = np.array(y_predict)\n",
        "y_predict =y_predict.reshape(y_predict.shape[1:])"
      ],
      "execution_count": null,
      "outputs": []
    },
    {
      "cell_type": "markdown",
      "metadata": {
        "id": "i_y-zliyZYSS"
      },
      "source": [
        "Por ultimo, nós apenas vamos separar alguns dados para treinamento e outros para teste, a fim de obter uma ideia de acurácia do nosso modelo:"
      ]
    },
    {
      "cell_type": "code",
      "metadata": {
        "id": "0v1jo10daxU2"
      },
      "source": [
        "X_train, X_test, y_train, y_test = train_test_split(x_predict,y_predict,test_size=0.2, random_state=1)"
      ],
      "execution_count": null,
      "outputs": []
    },
    {
      "cell_type": "markdown",
      "metadata": {
        "id": "-xM6zfKhiAhE"
      },
      "source": [
        "# Modelo de Machine Learning"
      ]
    },
    {
      "cell_type": "markdown",
      "metadata": {
        "id": "Ge-kH5GDjOmo"
      },
      "source": [
        "Agora que os dados já foram convertidos para números, nós podemos, finalmente, criar e treinar o nosso modelo de Machine Learning. A técnica usada será a Naive Bayes, uma vez que é uma excelente técnica de classificação para base de dados pequenas, que, felizmente é o nosso caso. Segue o código da criação e treinamento:"
      ]
    },
    {
      "cell_type": "code",
      "metadata": {
        "colab": {
          "base_uri": "https://localhost:8080/"
        },
        "id": "6UJGXLNWgpUu",
        "outputId": "1542b97c-f315-42d6-8f1a-53592b5f07f6"
      },
      "source": [
        "naive_bayes = GaussianNB()\n",
        "naive_bayes.fit(X_train,y_train)"
      ],
      "execution_count": null,
      "outputs": [
        {
          "output_type": "execute_result",
          "data": {
            "text/plain": [
              "GaussianNB(priors=None, var_smoothing=1e-09)"
            ]
          },
          "metadata": {},
          "execution_count": 34
        }
      ]
    },
    {
      "cell_type": "markdown",
      "metadata": {
        "id": "mLlQk2FrbAkm"
      },
      "source": [
        "Tendo o nosso modelo treinado, nós podemos, agora, verificar com os dados testes o quanto, aproximadamente, ele está acertando:"
      ]
    },
    {
      "cell_type": "code",
      "metadata": {
        "colab": {
          "base_uri": "https://localhost:8080/"
        },
        "id": "cTCJSYjjbLks",
        "outputId": "baac1753-4239-4eef-9e2a-3dd62fc84530"
      },
      "source": [
        "prediction = naive_bayes.predict(X_test)\n",
        "accuracy_score(y_test,prediction)"
      ],
      "execution_count": null,
      "outputs": [
        {
          "output_type": "execute_result",
          "data": {
            "text/plain": [
              "0.7"
            ]
          },
          "metadata": {},
          "execution_count": 35
        }
      ]
    },
    {
      "cell_type": "markdown",
      "metadata": {
        "id": "gccjk_R2bQOE"
      },
      "source": [
        "<p>Vemos, então, que nosso modelo acertou cerca de 70% das vezes.</p>"
      ]
    },
    {
      "cell_type": "markdown",
      "metadata": {
        "id": "Ha88cXHNkYEV"
      },
      "source": [
        "Feito isso, nós poderemos tentar prever os valores dos candidatos faltantes e, assim, \"solucionar o caso\"."
      ]
    },
    {
      "cell_type": "markdown",
      "metadata": {
        "id": "t1hhO9UEk4a5"
      },
      "source": [
        "# Prevendo as aprovações"
      ]
    },
    {
      "cell_type": "markdown",
      "metadata": {
        "id": "nZOAX9D1lW33"
      },
      "source": [
        "Primeiro, nós precisaremos separar e pré-processar os dados dos candidatos faltantes - da mesma forma que fizemos com os candidatos previsores:"
      ]
    },
    {
      "cell_type": "code",
      "metadata": {
        "colab": {
          "base_uri": "https://localhost:8080/",
          "height": 224
        },
        "id": "E1siyPzdjyXp",
        "outputId": "99d53258-8051-48a3-f840-4c59b84727e1"
      },
      "source": [
        "df_candidatos_faltantes = df_candidatos.iloc[indexes_faltantes]\n",
        "df_candidatos_faltantes = df_candidatos_faltantes.iloc[:,2:]\n",
        "df_candidatos_faltantes.head()"
      ],
      "execution_count": null,
      "outputs": [
        {
          "output_type": "execute_result",
          "data": {
            "text/html": [
              "<div>\n",
              "<style scoped>\n",
              "    .dataframe tbody tr th:only-of-type {\n",
              "        vertical-align: middle;\n",
              "    }\n",
              "\n",
              "    .dataframe tbody tr th {\n",
              "        vertical-align: top;\n",
              "    }\n",
              "\n",
              "    .dataframe thead th {\n",
              "        text-align: right;\n",
              "    }\n",
              "</style>\n",
              "<table border=\"1\" class=\"dataframe\">\n",
              "  <thead>\n",
              "    <tr style=\"text-align: right;\">\n",
              "      <th></th>\n",
              "      <th>idade</th>\n",
              "      <th>grande_vitoria</th>\n",
              "      <th>trab_presencial</th>\n",
              "      <th>horas_estagio</th>\n",
              "      <th>turno_estagio</th>\n",
              "      <th>ingles_leitura</th>\n",
              "      <th>ingles_escrita</th>\n",
              "      <th>ingles_conversa</th>\n",
              "      <th>ingles_vivencia_ext</th>\n",
              "      <th>titulacao</th>\n",
              "      <th>curso</th>\n",
              "      <th>primeira_graduacao</th>\n",
              "      <th>previsao_formacao</th>\n",
              "      <th>progresso_curso</th>\n",
              "      <th>estagio_DS</th>\n",
              "      <th>IC</th>\n",
              "      <th>TCC</th>\n",
              "      <th>tool_python</th>\n",
              "      <th>tool_R</th>\n",
              "      <th>tool_MATLAB</th>\n",
              "      <th>tool_sql</th>\n",
              "      <th>tool_dw</th>\n",
              "      <th>tool_BD</th>\n",
              "      <th>tool_cloud</th>\n",
              "      <th>tool_scala</th>\n",
              "      <th>tool_spark</th>\n",
              "      <th>tool_net</th>\n",
              "      <th>tool_rapidminer</th>\n",
              "      <th>tool_kubernets</th>\n",
              "      <th>tool_docker</th>\n",
              "      <th>tool_ssas</th>\n",
              "      <th>tool_tensorflow</th>\n",
              "      <th>tool_keras</th>\n",
              "      <th>tool_c++</th>\n",
              "      <th>tool_C#</th>\n",
              "      <th>tool_pytorch</th>\n",
              "      <th>tool_sklearn</th>\n",
              "      <th>tool_git</th>\n",
              "      <th>tool_pbi</th>\n",
              "      <th>tool_tableau</th>\n",
              "      <th>tool_qlick</th>\n",
              "      <th>tool_plotly</th>\n",
              "      <th>algoritmo_aprend_super</th>\n",
              "      <th>algoritmo_aprend_nao_super</th>\n",
              "      <th>algoritmo_aprend_refor</th>\n",
              "      <th>algoritmo_aprend_profun</th>\n",
              "      <th>algoritmo_modelagem_preditiva</th>\n",
              "      <th>algoritmo_modelavem_multivariada</th>\n",
              "      <th>algoritmo_visao_computacional</th>\n",
              "      <th>algoritmo_pdi</th>\n",
              "      <th>algoritmo_pds</th>\n",
              "      <th>algoritmo_busca_inteligente</th>\n",
              "      <th>algoritmo_otimizacao</th>\n",
              "      <th>algoritmo_sist_sugestao</th>\n",
              "      <th>algoritmo_robotica</th>\n",
              "    </tr>\n",
              "  </thead>\n",
              "  <tbody>\n",
              "    <tr>\n",
              "      <th>0</th>\n",
              "      <td>26</td>\n",
              "      <td>True</td>\n",
              "      <td>True</td>\n",
              "      <td>30h</td>\n",
              "      <td>full</td>\n",
              "      <td>F</td>\n",
              "      <td>F</td>\n",
              "      <td>F</td>\n",
              "      <td>6meses</td>\n",
              "      <td>graduacao</td>\n",
              "      <td>A</td>\n",
              "      <td>True</td>\n",
              "      <td>2021/2</td>\n",
              "      <td>2/3</td>\n",
              "      <td>1</td>\n",
              "      <td>Concluido</td>\n",
              "      <td>Fazendo</td>\n",
              "      <td>Tenho_domínio</td>\n",
              "      <td>Tenho_domínio</td>\n",
              "      <td>Já_trabalhei</td>\n",
              "      <td>Já_trabalhei</td>\n",
              "      <td>Já_trabalhei</td>\n",
              "      <td>Já_trabalhei</td>\n",
              "      <td>Já_trabalhei</td>\n",
              "      <td>Já_ouvi_Falar</td>\n",
              "      <td>Já_ouvi_Falar</td>\n",
              "      <td>Já_ouvi_Falar</td>\n",
              "      <td>Já_ouvi_Falar</td>\n",
              "      <td>Já_ouvi_Falar</td>\n",
              "      <td>Já_ouvi_Falar</td>\n",
              "      <td>Já_ouvi_Falar</td>\n",
              "      <td>Tenho_domínio</td>\n",
              "      <td>Tenho_domínio</td>\n",
              "      <td>Já_ouvi_Falar</td>\n",
              "      <td>Já_ouvi_Falar</td>\n",
              "      <td>Já_ouvi_Falar</td>\n",
              "      <td>Tenho_domínio</td>\n",
              "      <td>Já_ouvi_Falar</td>\n",
              "      <td>Tenho_domínio</td>\n",
              "      <td>Já_ouvi_Falar</td>\n",
              "      <td>Já_ouvi_Falar</td>\n",
              "      <td>Tenho_domínio</td>\n",
              "      <td>Desenvolvi_grandes_projetos_com_isso</td>\n",
              "      <td>Desenvolvi_grandes_projetos_com_isso</td>\n",
              "      <td>Só_estudei_nunca_apliquei</td>\n",
              "      <td>Apliquei_em_algum_trabalho</td>\n",
              "      <td>Apliquei_em_algum_trabalho</td>\n",
              "      <td>Apliquei_em_algum_trabalho</td>\n",
              "      <td>Só_estudei_nunca_apliquei</td>\n",
              "      <td>Só_estudei_nunca_apliquei</td>\n",
              "      <td>Só_estudei_nunca_apliquei</td>\n",
              "      <td>Só_estudei_nunca_apliquei</td>\n",
              "      <td>Apliquei_em_algum_trabalho</td>\n",
              "      <td>Só_estudei_nunca_apliquei</td>\n",
              "      <td>Só_estudei_nunca_apliquei</td>\n",
              "    </tr>\n",
              "    <tr>\n",
              "      <th>4</th>\n",
              "      <td>24</td>\n",
              "      <td>True</td>\n",
              "      <td>True</td>\n",
              "      <td>30h</td>\n",
              "      <td>full</td>\n",
              "      <td>I</td>\n",
              "      <td>I</td>\n",
              "      <td>I</td>\n",
              "      <td>0meses</td>\n",
              "      <td>graduacao</td>\n",
              "      <td>A</td>\n",
              "      <td>True</td>\n",
              "      <td>2021/2</td>\n",
              "      <td>2/3</td>\n",
              "      <td>&gt;1</td>\n",
              "      <td>Fazendo</td>\n",
              "      <td>Não</td>\n",
              "      <td>Já_trabalhei</td>\n",
              "      <td>Já_trabalhei</td>\n",
              "      <td>Tenho_domínio</td>\n",
              "      <td>Já_trabalhei</td>\n",
              "      <td>Já_ouvi_Falar</td>\n",
              "      <td>Já_ouvi_Falar</td>\n",
              "      <td>Já_ouvi_Falar</td>\n",
              "      <td>Já_ouvi_Falar</td>\n",
              "      <td>Já_ouvi_Falar</td>\n",
              "      <td>Já_ouvi_Falar</td>\n",
              "      <td>Já_ouvi_Falar</td>\n",
              "      <td>Já_ouvi_Falar</td>\n",
              "      <td>Já_ouvi_Falar</td>\n",
              "      <td>Já_ouvi_Falar</td>\n",
              "      <td>Já_ouvi_Falar</td>\n",
              "      <td>Já_ouvi_Falar</td>\n",
              "      <td>Já_trabalhei</td>\n",
              "      <td>Já_trabalhei</td>\n",
              "      <td>Já_ouvi_Falar</td>\n",
              "      <td>Já_ouvi_Falar</td>\n",
              "      <td>Já_ouvi_Falar</td>\n",
              "      <td>Tenho_domínio</td>\n",
              "      <td>Tenho_domínio</td>\n",
              "      <td>Já_trabalhei</td>\n",
              "      <td>Já_ouvi_Falar</td>\n",
              "      <td>Só_estudei_nunca_apliquei</td>\n",
              "      <td>Só_estudei_nunca_apliquei</td>\n",
              "      <td>Só_estudei_nunca_apliquei</td>\n",
              "      <td>Só_estudei_nunca_apliquei</td>\n",
              "      <td>Apliquei_em_algum_trabalho</td>\n",
              "      <td>Só_estudei_nunca_apliquei</td>\n",
              "      <td>Só_estudei_nunca_apliquei</td>\n",
              "      <td>Só_estudei_nunca_apliquei</td>\n",
              "      <td>Só_estudei_nunca_apliquei</td>\n",
              "      <td>Nunca_estudei_e_nunca_apliquei</td>\n",
              "      <td>Nunca_estudei_e_nunca_apliquei</td>\n",
              "      <td>Nunca_estudei_e_nunca_apliquei</td>\n",
              "      <td>Nunca_estudei_e_nunca_apliquei</td>\n",
              "    </tr>\n",
              "    <tr>\n",
              "      <th>9</th>\n",
              "      <td>30</td>\n",
              "      <td>True</td>\n",
              "      <td>True</td>\n",
              "      <td>30h</td>\n",
              "      <td>full</td>\n",
              "      <td>B</td>\n",
              "      <td>B</td>\n",
              "      <td>B</td>\n",
              "      <td>0meses</td>\n",
              "      <td>graduacao</td>\n",
              "      <td>C</td>\n",
              "      <td>False</td>\n",
              "      <td>2022/2</td>\n",
              "      <td>0/3</td>\n",
              "      <td>0</td>\n",
              "      <td>Não</td>\n",
              "      <td>Não</td>\n",
              "      <td>Já_ouvi_Falar</td>\n",
              "      <td>Nunca_nem_vi</td>\n",
              "      <td>Nunca_nem_vi</td>\n",
              "      <td>Já_trabalhei</td>\n",
              "      <td>Já_ouvi_Falar</td>\n",
              "      <td>Já_ouvi_Falar</td>\n",
              "      <td>Já_ouvi_Falar</td>\n",
              "      <td>Nunca_nem_vi</td>\n",
              "      <td>Já_ouvi_Falar</td>\n",
              "      <td>Nunca_nem_vi</td>\n",
              "      <td>Nunca_nem_vi</td>\n",
              "      <td>Nunca_nem_vi</td>\n",
              "      <td>Nunca_nem_vi</td>\n",
              "      <td>Nunca_nem_vi</td>\n",
              "      <td>Já_ouvi_Falar</td>\n",
              "      <td>Nunca_nem_vi</td>\n",
              "      <td>Nunca_nem_vi</td>\n",
              "      <td>Nunca_nem_vi</td>\n",
              "      <td>Nunca_nem_vi</td>\n",
              "      <td>Nunca_nem_vi</td>\n",
              "      <td>Nunca_nem_vi</td>\n",
              "      <td>Já_ouvi_Falar</td>\n",
              "      <td>Nunca_nem_vi</td>\n",
              "      <td>Nunca_nem_vi</td>\n",
              "      <td>Nunca_nem_vi</td>\n",
              "      <td>Nunca_estudei_e_nunca_apliquei</td>\n",
              "      <td>Nunca_estudei_e_nunca_apliquei</td>\n",
              "      <td>Nunca_estudei_e_nunca_apliquei</td>\n",
              "      <td>Nunca_estudei_e_nunca_apliquei</td>\n",
              "      <td>Nunca_estudei_e_nunca_apliquei</td>\n",
              "      <td>Nunca_estudei_e_nunca_apliquei</td>\n",
              "      <td>Só_estudei_nunca_apliquei</td>\n",
              "      <td>Só_estudei_nunca_apliquei</td>\n",
              "      <td>Nunca_estudei_e_nunca_apliquei</td>\n",
              "      <td>Só_estudei_nunca_apliquei</td>\n",
              "      <td>Nunca_estudei_e_nunca_apliquei</td>\n",
              "      <td>Nunca_estudei_e_nunca_apliquei</td>\n",
              "      <td>Nunca_estudei_e_nunca_apliquei</td>\n",
              "    </tr>\n",
              "    <tr>\n",
              "      <th>26</th>\n",
              "      <td>23</td>\n",
              "      <td>True</td>\n",
              "      <td>True</td>\n",
              "      <td>30h</td>\n",
              "      <td>full</td>\n",
              "      <td>I</td>\n",
              "      <td>B</td>\n",
              "      <td>B</td>\n",
              "      <td>0meses</td>\n",
              "      <td>graduacao</td>\n",
              "      <td>A</td>\n",
              "      <td>True</td>\n",
              "      <td>2020/2</td>\n",
              "      <td>2/3</td>\n",
              "      <td>1</td>\n",
              "      <td>Não</td>\n",
              "      <td>Fazendo</td>\n",
              "      <td>Já_trabalhei</td>\n",
              "      <td>Já_ouvi_Falar</td>\n",
              "      <td>Já_trabalhei</td>\n",
              "      <td>Já_trabalhei</td>\n",
              "      <td>Já_ouvi_Falar</td>\n",
              "      <td>Já_trabalhei</td>\n",
              "      <td>Já_ouvi_Falar</td>\n",
              "      <td>Nunca_nem_vi</td>\n",
              "      <td>Nunca_nem_vi</td>\n",
              "      <td>Já_trabalhei</td>\n",
              "      <td>Nunca_nem_vi</td>\n",
              "      <td>Nunca_nem_vi</td>\n",
              "      <td>Nunca_nem_vi</td>\n",
              "      <td>Nunca_nem_vi</td>\n",
              "      <td>Já_trabalhei</td>\n",
              "      <td>Já_trabalhei</td>\n",
              "      <td>Já_trabalhei</td>\n",
              "      <td>Já_trabalhei</td>\n",
              "      <td>Já_ouvi_Falar</td>\n",
              "      <td>Já_trabalhei</td>\n",
              "      <td>Já_trabalhei</td>\n",
              "      <td>Já_ouvi_Falar</td>\n",
              "      <td>Nunca_nem_vi</td>\n",
              "      <td>Nunca_nem_vi</td>\n",
              "      <td>Nunca_nem_vi</td>\n",
              "      <td>Apliquei_em_algum_trabalho</td>\n",
              "      <td>Só_estudei_nunca_apliquei</td>\n",
              "      <td>Nunca_estudei_e_nunca_apliquei</td>\n",
              "      <td>Apliquei_em_algum_trabalho</td>\n",
              "      <td>Só_estudei_nunca_apliquei</td>\n",
              "      <td>Só_estudei_nunca_apliquei</td>\n",
              "      <td>Apliquei_em_algum_trabalho</td>\n",
              "      <td>Apliquei_em_algum_trabalho</td>\n",
              "      <td>Só_estudei_nunca_apliquei</td>\n",
              "      <td>Nunca_estudei_e_nunca_apliquei</td>\n",
              "      <td>Nunca_estudei_e_nunca_apliquei</td>\n",
              "      <td>Nunca_estudei_e_nunca_apliquei</td>\n",
              "      <td>Nunca_estudei_e_nunca_apliquei</td>\n",
              "    </tr>\n",
              "    <tr>\n",
              "      <th>46</th>\n",
              "      <td>25</td>\n",
              "      <td>True</td>\n",
              "      <td>True</td>\n",
              "      <td>30h</td>\n",
              "      <td>full</td>\n",
              "      <td>B</td>\n",
              "      <td>B</td>\n",
              "      <td>B</td>\n",
              "      <td>0meses</td>\n",
              "      <td>graduacao</td>\n",
              "      <td>B</td>\n",
              "      <td>True</td>\n",
              "      <td>2021/2</td>\n",
              "      <td>1/3</td>\n",
              "      <td>0</td>\n",
              "      <td>Não</td>\n",
              "      <td>Não</td>\n",
              "      <td>Já_trabalhei</td>\n",
              "      <td>Já_trabalhei</td>\n",
              "      <td>Já_ouvi_Falar</td>\n",
              "      <td>Já_trabalhei</td>\n",
              "      <td>Já_trabalhei</td>\n",
              "      <td>Já_trabalhei</td>\n",
              "      <td>Já_trabalhei</td>\n",
              "      <td>Já_ouvi_Falar</td>\n",
              "      <td>Já_trabalhei</td>\n",
              "      <td>Já_ouvi_Falar</td>\n",
              "      <td>Já_ouvi_Falar</td>\n",
              "      <td>Já_ouvi_Falar</td>\n",
              "      <td>Já_trabalhei</td>\n",
              "      <td>Já_ouvi_Falar</td>\n",
              "      <td>Já_ouvi_Falar</td>\n",
              "      <td>Já_ouvi_Falar</td>\n",
              "      <td>Já_ouvi_Falar</td>\n",
              "      <td>Já_ouvi_Falar</td>\n",
              "      <td>Já_ouvi_Falar</td>\n",
              "      <td>Já_ouvi_Falar</td>\n",
              "      <td>Já_trabalhei</td>\n",
              "      <td>Já_trabalhei</td>\n",
              "      <td>Já_ouvi_Falar</td>\n",
              "      <td>Já_ouvi_Falar</td>\n",
              "      <td>Já_trabalhei</td>\n",
              "      <td>Só_estudei_nunca_apliquei</td>\n",
              "      <td>Só_estudei_nunca_apliquei</td>\n",
              "      <td>Só_estudei_nunca_apliquei</td>\n",
              "      <td>Nunca_estudei_e_nunca_apliquei</td>\n",
              "      <td>Nunca_estudei_e_nunca_apliquei</td>\n",
              "      <td>Nunca_estudei_e_nunca_apliquei</td>\n",
              "      <td>Nunca_estudei_e_nunca_apliquei</td>\n",
              "      <td>Só_estudei_nunca_apliquei</td>\n",
              "      <td>Nunca_estudei_e_nunca_apliquei</td>\n",
              "      <td>Só_estudei_nunca_apliquei</td>\n",
              "      <td>Nunca_estudei_e_nunca_apliquei</td>\n",
              "      <td>Nunca_estudei_e_nunca_apliquei</td>\n",
              "      <td>Nunca_estudei_e_nunca_apliquei</td>\n",
              "    </tr>\n",
              "  </tbody>\n",
              "</table>\n",
              "</div>"
            ],
            "text/plain": [
              "    idade  ...              algoritmo_robotica\n",
              "0      26  ...       Só_estudei_nunca_apliquei\n",
              "4      24  ...  Nunca_estudei_e_nunca_apliquei\n",
              "9      30  ...  Nunca_estudei_e_nunca_apliquei\n",
              "26     23  ...  Nunca_estudei_e_nunca_apliquei\n",
              "46     25  ...  Nunca_estudei_e_nunca_apliquei\n",
              "\n",
              "[5 rows x 55 columns]"
            ]
          },
          "metadata": {},
          "execution_count": 36
        }
      ]
    },
    {
      "cell_type": "code",
      "metadata": {
        "id": "1rYokKX1mSZB"
      },
      "source": [
        "label_encoder = LabelEncoder()\n",
        "for i in range(55):\n",
        "  df_candidatos_faltantes.iloc[:,i] = label_encoder.fit_transform(df_candidatos_faltantes.iloc[:,i]) \n",
        "df_candidatos_faltantes = standard.fit_transform(df_candidatos_faltantes)\n"
      ],
      "execution_count": null,
      "outputs": []
    },
    {
      "cell_type": "markdown",
      "metadata": {
        "id": "NjOJI7AicRM0"
      },
      "source": [
        "<p>Com os dados já tratados, nós poderemos, enfim, tentar prever a aprovação dos candidatos faltantes</p>"
      ]
    },
    {
      "cell_type": "code",
      "metadata": {
        "id": "R6uqcD_tnN9L"
      },
      "source": [
        "prediction = naive_bayes.predict(df_candidatos_faltantes)"
      ],
      "execution_count": null,
      "outputs": []
    },
    {
      "cell_type": "code",
      "metadata": {
        "colab": {
          "base_uri": "https://localhost:8080/"
        },
        "id": "yBYKSKJ-ndZs",
        "outputId": "c6820037-a72f-4919-8340-324ac7243527"
      },
      "source": [
        "prediction"
      ],
      "execution_count": null,
      "outputs": [
        {
          "output_type": "execute_result",
          "data": {
            "text/plain": [
              "array([1, 1, 1, 1, 1, 1])"
            ]
          },
          "metadata": {},
          "execution_count": 43
        }
      ]
    },
    {
      "cell_type": "markdown",
      "metadata": {
        "id": "aJsluxh2cpTF"
      },
      "source": [
        "Segundo nosso modelo, todos os 6 candidatos tem mais probabilidade de serem aprovados que reprovados. \"Victor, será se o modelo não está apenas classificando todas as pessoas como aprovado?\". Boa questão, podemos conferir as possíveis respostas da seguinte forma:"
      ]
    },
    {
      "cell_type": "code",
      "metadata": {
        "colab": {
          "base_uri": "https://localhost:8080/"
        },
        "id": "N9gPnP8hnemL",
        "outputId": "53adaf24-bc24-4a47-c47b-56c23a8a305e"
      },
      "source": [
        "naive_bayes.classes_"
      ],
      "execution_count": null,
      "outputs": [
        {
          "output_type": "execute_result",
          "data": {
            "text/plain": [
              "array([0, 1])"
            ]
          },
          "metadata": {},
          "execution_count": 44
        }
      ]
    },
    {
      "cell_type": "markdown",
      "metadata": {
        "id": "VyAZ-tjPdDAt"
      },
      "source": [
        "<p>Vemos que o nosso modelo pode retornar tanto a aprovação quanto a reprovação.</p>"
      ]
    },
    {
      "cell_type": "code",
      "metadata": {
        "colab": {
          "base_uri": "https://localhost:8080/"
        },
        "id": "7nicvTd9xYOL",
        "outputId": "4bd84583-8c51-4b83-d915-20a31a2bc26d"
      },
      "source": [
        "naive_bayes.class_prior_"
      ],
      "execution_count": null,
      "outputs": [
        {
          "output_type": "execute_result",
          "data": {
            "text/plain": [
              "array([0.63888889, 0.36111111])"
            ]
          },
          "metadata": {},
          "execution_count": 45
        }
      ]
    },
    {
      "cell_type": "markdown",
      "metadata": {
        "id": "gFmvIPt5dOdw"
      },
      "source": [
        "Acima, nós vemos que, selecionando ao acaso, tem-se 63% de chances de obter um candidato reprovado. No entanto, para o nosso modelo, os 6 candidatos tem mais chances de serem aprovados."
      ]
    },
    {
      "cell_type": "markdown",
      "metadata": {
        "id": "KwuVh1I7dj4Z"
      },
      "source": [
        "# Conclusão"
      ]
    },
    {
      "cell_type": "markdown",
      "metadata": {
        "id": "sliE7dWodoVW"
      },
      "source": [
        "<p>Chegando, infelizmente, no fim do nosso projeto, nós vamos dar uma breve recapitulada no que fizemos - que não foi pouco viu.</p>\n",
        "<p>Ao decorrer desse notebook, nós entendemos o problema, elaboramos um plano lógico para solucionar-lo, fizemos a limpeza e tratamento dos dados, realizamos uma efetiva análise exploratória dos dados, criamos, treinamos e aplicamos um modelo de Machine Learning e quantificamos os seus resultados.</p>\n",
        "<p>Portanto, eu espero que você tenha queimado uns fosfatos e secando sua caneca aqui comigo. Agradeço, imensamente, por ter chegado até o final. Se gostou do meu trabalho, convido-o a acompanhar mais de perto a minha jornada pelo LinkedIn ou GitHub. </p>"
      ]
    }
  ]
}